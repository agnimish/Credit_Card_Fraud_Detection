{
 "cells": [
  {
   "cell_type": "code",
   "execution_count": 153,
   "metadata": {},
   "outputs": [],
   "source": [
    "#Libraries\n",
    "import numpy as np\n",
    "import pandas as pd \n",
    "import seaborn as sns\n",
    "import matplotlib.pyplot as plt\n",
    "import matplotlib.gridspec as gridspec # to do the grid of plots"
   ]
  },
  {
   "cell_type": "code",
   "execution_count": 154,
   "metadata": {},
   "outputs": [],
   "source": [
    "# reading data from csv file\n",
    "df = pd.read_csv('creditcard.csv')"
   ]
  },
  {
   "cell_type": "code",
   "execution_count": 155,
   "metadata": {},
   "outputs": [
    {
     "data": {
      "text/plain": [
       "(284807, 31)"
      ]
     },
     "execution_count": 155,
     "metadata": {},
     "output_type": "execute_result"
    }
   ],
   "source": [
    "df.shape"
   ]
  },
  {
   "cell_type": "code",
   "execution_count": 156,
   "metadata": {},
   "outputs": [],
   "source": [
    "df = df[df.Amount < 10000]"
   ]
  },
  {
   "cell_type": "code",
   "execution_count": 157,
   "metadata": {},
   "outputs": [
    {
     "name": "stdout",
     "output_type": "stream",
     "text": [
      "Scaled Data\n",
      "\n"
     ]
    },
    {
     "data": {
      "text/html": [
       "<div>\n",
       "<style scoped>\n",
       "    .dataframe tbody tr th:only-of-type {\n",
       "        vertical-align: middle;\n",
       "    }\n",
       "\n",
       "    .dataframe tbody tr th {\n",
       "        vertical-align: top;\n",
       "    }\n",
       "\n",
       "    .dataframe thead th {\n",
       "        text-align: right;\n",
       "    }\n",
       "</style>\n",
       "<table border=\"1\" class=\"dataframe\">\n",
       "  <thead>\n",
       "    <tr style=\"text-align: right;\">\n",
       "      <th></th>\n",
       "      <th>scaled_time</th>\n",
       "      <th>scaled_amount</th>\n",
       "      <th>V1</th>\n",
       "      <th>V2</th>\n",
       "      <th>V3</th>\n",
       "      <th>V4</th>\n",
       "      <th>V5</th>\n",
       "      <th>V6</th>\n",
       "      <th>V7</th>\n",
       "      <th>V8</th>\n",
       "      <th>...</th>\n",
       "      <th>V20</th>\n",
       "      <th>V21</th>\n",
       "      <th>V22</th>\n",
       "      <th>V23</th>\n",
       "      <th>V24</th>\n",
       "      <th>V25</th>\n",
       "      <th>V26</th>\n",
       "      <th>V27</th>\n",
       "      <th>V28</th>\n",
       "      <th>Class</th>\n",
       "    </tr>\n",
       "  </thead>\n",
       "  <tbody>\n",
       "    <tr>\n",
       "      <th>0</th>\n",
       "      <td>-0.994989</td>\n",
       "      <td>1.783399</td>\n",
       "      <td>-1.359807</td>\n",
       "      <td>-0.072781</td>\n",
       "      <td>2.536347</td>\n",
       "      <td>1.378155</td>\n",
       "      <td>-0.338321</td>\n",
       "      <td>0.462388</td>\n",
       "      <td>0.239599</td>\n",
       "      <td>0.098698</td>\n",
       "      <td>...</td>\n",
       "      <td>0.251412</td>\n",
       "      <td>-0.018307</td>\n",
       "      <td>0.277838</td>\n",
       "      <td>-0.110474</td>\n",
       "      <td>0.066928</td>\n",
       "      <td>0.128539</td>\n",
       "      <td>-0.189115</td>\n",
       "      <td>0.133558</td>\n",
       "      <td>-0.021053</td>\n",
       "      <td>0</td>\n",
       "    </tr>\n",
       "    <tr>\n",
       "      <th>1</th>\n",
       "      <td>-0.994989</td>\n",
       "      <td>-0.269843</td>\n",
       "      <td>1.191857</td>\n",
       "      <td>0.266151</td>\n",
       "      <td>0.166480</td>\n",
       "      <td>0.448154</td>\n",
       "      <td>0.060018</td>\n",
       "      <td>-0.082361</td>\n",
       "      <td>-0.078803</td>\n",
       "      <td>0.085102</td>\n",
       "      <td>...</td>\n",
       "      <td>-0.069083</td>\n",
       "      <td>-0.225775</td>\n",
       "      <td>-0.638672</td>\n",
       "      <td>0.101288</td>\n",
       "      <td>-0.339846</td>\n",
       "      <td>0.167170</td>\n",
       "      <td>0.125895</td>\n",
       "      <td>-0.008983</td>\n",
       "      <td>0.014724</td>\n",
       "      <td>0</td>\n",
       "    </tr>\n",
       "    <tr>\n",
       "      <th>2</th>\n",
       "      <td>-0.994978</td>\n",
       "      <td>4.984069</td>\n",
       "      <td>-1.358354</td>\n",
       "      <td>-1.340163</td>\n",
       "      <td>1.773209</td>\n",
       "      <td>0.379780</td>\n",
       "      <td>-0.503198</td>\n",
       "      <td>1.800499</td>\n",
       "      <td>0.791461</td>\n",
       "      <td>0.247676</td>\n",
       "      <td>...</td>\n",
       "      <td>0.524980</td>\n",
       "      <td>0.247998</td>\n",
       "      <td>0.771679</td>\n",
       "      <td>0.909412</td>\n",
       "      <td>-0.689281</td>\n",
       "      <td>-0.327642</td>\n",
       "      <td>-0.139097</td>\n",
       "      <td>-0.055353</td>\n",
       "      <td>-0.059752</td>\n",
       "      <td>0</td>\n",
       "    </tr>\n",
       "    <tr>\n",
       "      <th>3</th>\n",
       "      <td>-0.994978</td>\n",
       "      <td>1.418390</td>\n",
       "      <td>-0.966272</td>\n",
       "      <td>-0.185226</td>\n",
       "      <td>1.792993</td>\n",
       "      <td>-0.863291</td>\n",
       "      <td>-0.010309</td>\n",
       "      <td>1.247203</td>\n",
       "      <td>0.237609</td>\n",
       "      <td>0.377436</td>\n",
       "      <td>...</td>\n",
       "      <td>-0.208038</td>\n",
       "      <td>-0.108300</td>\n",
       "      <td>0.005274</td>\n",
       "      <td>-0.190321</td>\n",
       "      <td>-1.175575</td>\n",
       "      <td>0.647376</td>\n",
       "      <td>-0.221929</td>\n",
       "      <td>0.062723</td>\n",
       "      <td>0.061458</td>\n",
       "      <td>0</td>\n",
       "    </tr>\n",
       "    <tr>\n",
       "      <th>4</th>\n",
       "      <td>-0.994966</td>\n",
       "      <td>0.670626</td>\n",
       "      <td>-1.158233</td>\n",
       "      <td>0.877737</td>\n",
       "      <td>1.548718</td>\n",
       "      <td>0.403034</td>\n",
       "      <td>-0.407193</td>\n",
       "      <td>0.095921</td>\n",
       "      <td>0.592941</td>\n",
       "      <td>-0.270533</td>\n",
       "      <td>...</td>\n",
       "      <td>0.408542</td>\n",
       "      <td>-0.009431</td>\n",
       "      <td>0.798278</td>\n",
       "      <td>-0.137458</td>\n",
       "      <td>0.141267</td>\n",
       "      <td>-0.206010</td>\n",
       "      <td>0.502292</td>\n",
       "      <td>0.219422</td>\n",
       "      <td>0.215153</td>\n",
       "      <td>0</td>\n",
       "    </tr>\n",
       "    <tr>\n",
       "      <th>5</th>\n",
       "      <td>-0.994966</td>\n",
       "      <td>-0.256149</td>\n",
       "      <td>-0.425966</td>\n",
       "      <td>0.960523</td>\n",
       "      <td>1.141109</td>\n",
       "      <td>-0.168252</td>\n",
       "      <td>0.420987</td>\n",
       "      <td>-0.029728</td>\n",
       "      <td>0.476201</td>\n",
       "      <td>0.260314</td>\n",
       "      <td>...</td>\n",
       "      <td>0.084968</td>\n",
       "      <td>-0.208254</td>\n",
       "      <td>-0.559825</td>\n",
       "      <td>-0.026398</td>\n",
       "      <td>-0.371427</td>\n",
       "      <td>-0.232794</td>\n",
       "      <td>0.105915</td>\n",
       "      <td>0.253844</td>\n",
       "      <td>0.081080</td>\n",
       "      <td>0</td>\n",
       "    </tr>\n",
       "    <tr>\n",
       "      <th>6</th>\n",
       "      <td>-0.994942</td>\n",
       "      <td>-0.237703</td>\n",
       "      <td>1.229658</td>\n",
       "      <td>0.141004</td>\n",
       "      <td>0.045371</td>\n",
       "      <td>1.202613</td>\n",
       "      <td>0.191881</td>\n",
       "      <td>0.272708</td>\n",
       "      <td>-0.005159</td>\n",
       "      <td>0.081213</td>\n",
       "      <td>...</td>\n",
       "      <td>-0.219633</td>\n",
       "      <td>-0.167716</td>\n",
       "      <td>-0.270710</td>\n",
       "      <td>-0.154104</td>\n",
       "      <td>-0.780055</td>\n",
       "      <td>0.750137</td>\n",
       "      <td>-0.257237</td>\n",
       "      <td>0.034507</td>\n",
       "      <td>0.005168</td>\n",
       "      <td>0</td>\n",
       "    </tr>\n",
       "    <tr>\n",
       "      <th>7</th>\n",
       "      <td>-0.994907</td>\n",
       "      <td>0.262717</td>\n",
       "      <td>-0.644269</td>\n",
       "      <td>1.417964</td>\n",
       "      <td>1.074380</td>\n",
       "      <td>-0.492199</td>\n",
       "      <td>0.948934</td>\n",
       "      <td>0.428118</td>\n",
       "      <td>1.120631</td>\n",
       "      <td>-3.807864</td>\n",
       "      <td>...</td>\n",
       "      <td>-0.156742</td>\n",
       "      <td>1.943465</td>\n",
       "      <td>-1.015455</td>\n",
       "      <td>0.057504</td>\n",
       "      <td>-0.649709</td>\n",
       "      <td>-0.415267</td>\n",
       "      <td>-0.051634</td>\n",
       "      <td>-1.206921</td>\n",
       "      <td>-1.085339</td>\n",
       "      <td>0</td>\n",
       "    </tr>\n",
       "    <tr>\n",
       "      <th>8</th>\n",
       "      <td>-0.994907</td>\n",
       "      <td>0.994969</td>\n",
       "      <td>-0.894286</td>\n",
       "      <td>0.286157</td>\n",
       "      <td>-0.113192</td>\n",
       "      <td>-0.271526</td>\n",
       "      <td>2.669599</td>\n",
       "      <td>3.721818</td>\n",
       "      <td>0.370145</td>\n",
       "      <td>0.851084</td>\n",
       "      <td>...</td>\n",
       "      <td>0.052736</td>\n",
       "      <td>-0.073425</td>\n",
       "      <td>-0.268092</td>\n",
       "      <td>-0.204233</td>\n",
       "      <td>1.011592</td>\n",
       "      <td>0.373205</td>\n",
       "      <td>-0.384157</td>\n",
       "      <td>0.011747</td>\n",
       "      <td>0.142404</td>\n",
       "      <td>0</td>\n",
       "    </tr>\n",
       "    <tr>\n",
       "      <th>9</th>\n",
       "      <td>-0.994884</td>\n",
       "      <td>-0.256009</td>\n",
       "      <td>-0.338262</td>\n",
       "      <td>1.119593</td>\n",
       "      <td>1.044367</td>\n",
       "      <td>-0.222187</td>\n",
       "      <td>0.499361</td>\n",
       "      <td>-0.246761</td>\n",
       "      <td>0.651583</td>\n",
       "      <td>0.069539</td>\n",
       "      <td>...</td>\n",
       "      <td>0.203711</td>\n",
       "      <td>-0.246914</td>\n",
       "      <td>-0.633753</td>\n",
       "      <td>-0.120794</td>\n",
       "      <td>-0.385050</td>\n",
       "      <td>-0.069733</td>\n",
       "      <td>0.094199</td>\n",
       "      <td>0.246219</td>\n",
       "      <td>0.083076</td>\n",
       "      <td>0</td>\n",
       "    </tr>\n",
       "  </tbody>\n",
       "</table>\n",
       "<p>10 rows × 31 columns</p>\n",
       "</div>"
      ],
      "text/plain": [
       "   scaled_time  scaled_amount        V1        V2        V3        V4  \\\n",
       "0    -0.994989       1.783399 -1.359807 -0.072781  2.536347  1.378155   \n",
       "1    -0.994989      -0.269843  1.191857  0.266151  0.166480  0.448154   \n",
       "2    -0.994978       4.984069 -1.358354 -1.340163  1.773209  0.379780   \n",
       "3    -0.994978       1.418390 -0.966272 -0.185226  1.792993 -0.863291   \n",
       "4    -0.994966       0.670626 -1.158233  0.877737  1.548718  0.403034   \n",
       "5    -0.994966      -0.256149 -0.425966  0.960523  1.141109 -0.168252   \n",
       "6    -0.994942      -0.237703  1.229658  0.141004  0.045371  1.202613   \n",
       "7    -0.994907       0.262717 -0.644269  1.417964  1.074380 -0.492199   \n",
       "8    -0.994907       0.994969 -0.894286  0.286157 -0.113192 -0.271526   \n",
       "9    -0.994884      -0.256009 -0.338262  1.119593  1.044367 -0.222187   \n",
       "\n",
       "         V5        V6        V7        V8  ...       V20       V21       V22  \\\n",
       "0 -0.338321  0.462388  0.239599  0.098698  ...  0.251412 -0.018307  0.277838   \n",
       "1  0.060018 -0.082361 -0.078803  0.085102  ... -0.069083 -0.225775 -0.638672   \n",
       "2 -0.503198  1.800499  0.791461  0.247676  ...  0.524980  0.247998  0.771679   \n",
       "3 -0.010309  1.247203  0.237609  0.377436  ... -0.208038 -0.108300  0.005274   \n",
       "4 -0.407193  0.095921  0.592941 -0.270533  ...  0.408542 -0.009431  0.798278   \n",
       "5  0.420987 -0.029728  0.476201  0.260314  ...  0.084968 -0.208254 -0.559825   \n",
       "6  0.191881  0.272708 -0.005159  0.081213  ... -0.219633 -0.167716 -0.270710   \n",
       "7  0.948934  0.428118  1.120631 -3.807864  ... -0.156742  1.943465 -1.015455   \n",
       "8  2.669599  3.721818  0.370145  0.851084  ...  0.052736 -0.073425 -0.268092   \n",
       "9  0.499361 -0.246761  0.651583  0.069539  ...  0.203711 -0.246914 -0.633753   \n",
       "\n",
       "        V23       V24       V25       V26       V27       V28  Class  \n",
       "0 -0.110474  0.066928  0.128539 -0.189115  0.133558 -0.021053      0  \n",
       "1  0.101288 -0.339846  0.167170  0.125895 -0.008983  0.014724      0  \n",
       "2  0.909412 -0.689281 -0.327642 -0.139097 -0.055353 -0.059752      0  \n",
       "3 -0.190321 -1.175575  0.647376 -0.221929  0.062723  0.061458      0  \n",
       "4 -0.137458  0.141267 -0.206010  0.502292  0.219422  0.215153      0  \n",
       "5 -0.026398 -0.371427 -0.232794  0.105915  0.253844  0.081080      0  \n",
       "6 -0.154104 -0.780055  0.750137 -0.257237  0.034507  0.005168      0  \n",
       "7  0.057504 -0.649709 -0.415267 -0.051634 -1.206921 -1.085339      0  \n",
       "8 -0.204233  1.011592  0.373205 -0.384157  0.011747  0.142404      0  \n",
       "9 -0.120794 -0.385050 -0.069733  0.094199  0.246219  0.083076      0  \n",
       "\n",
       "[10 rows x 31 columns]"
      ]
     },
     "execution_count": 157,
     "metadata": {},
     "output_type": "execute_result"
    }
   ],
   "source": [
    "# Reason: robust scaler is immune to outliers, as median is chosen as the central tendancy.\n",
    "from sklearn.preprocessing import StandardScaler, RobustScaler\n",
    "\n",
    "rob_scaler = RobustScaler()\n",
    "\n",
    "df['scaled_amount'] = rob_scaler.fit_transform(df['Amount'].values.reshape(-1,1))\n",
    "df['scaled_time'] = rob_scaler.fit_transform(df['Time'].values.reshape(-1,1))\n",
    "\n",
    "df.drop(['Time','Amount'], axis=1, inplace=True)\n",
    "df = df[['scaled_time','scaled_amount', 'V1', 'V2', 'V3', 'V4', 'V5', 'V6', 'V7', 'V8', 'V9', 'V10',\n",
    "       'V11', 'V12', 'V13', 'V14', 'V15', 'V16', 'V17', 'V18', 'V19', 'V20',\n",
    "       'V21', 'V22', 'V23', 'V24', 'V25', 'V26', 'V27', 'V28',\n",
    "       'Class']]\n",
    "print('Scaled Data\\n')\n",
    "df.head(10)"
   ]
  },
  {
   "cell_type": "code",
   "execution_count": 158,
   "metadata": {},
   "outputs": [
    {
     "name": "stdout",
     "output_type": "stream",
     "text": [
      "df shape (284799, 31)\n",
      "original_Xtrain shape (227840, 30)\n",
      "original_ytrain shape (227840,)\n",
      "original_Xtest shape (56959, 30)\n",
      "original_ytest shape (56959,)\n"
     ]
    }
   ],
   "source": [
    "from sklearn.model_selection import train_test_split\n",
    "from sklearn.model_selection import StratifiedKFold\n",
    "\n",
    "X = df.drop('Class', axis=1)\n",
    "y = df['Class']\n",
    "\n",
    "sss = StratifiedKFold(n_splits=5, random_state=None, shuffle=False)\n",
    "\n",
    "for train_index, test_index in sss.split(X, y):\n",
    "    # print(\"Train:\", train_index, \"Test:\", test_index)\n",
    "    original_Xtrain, original_Xtest = X.iloc[train_index], X.iloc[test_index]\n",
    "    original_ytrain, original_ytest = y.iloc[train_index], y.iloc[test_index]\n",
    "\n",
    "print(\"df shape\", df.shape)\n",
    "print(\"original_Xtrain shape\", original_Xtrain.shape)\n",
    "print(\"original_ytrain shape\", original_ytrain.shape)\n",
    "print(\"original_Xtest shape\", original_Xtest.shape)\n",
    "print(\"original_ytest shape\", original_ytest.shape)\n"
   ]
  },
  {
   "cell_type": "code",
   "execution_count": 159,
   "metadata": {},
   "outputs": [],
   "source": [
    "# Make Dataset\n",
    "\n",
    "credit_card_4_5 = pd.concat([pd.DataFrame(original_Xtrain), pd.DataFrame(original_ytrain)], axis=1)\n",
    "credit_card_1_5 = pd.concat([pd.DataFrame(original_Xtest), pd.DataFrame(original_ytest)], axis=1)\n"
   ]
  },
  {
   "cell_type": "code",
   "execution_count": 160,
   "metadata": {},
   "outputs": [],
   "source": [
    "credit_card_1_5.to_csv(\"credit_card_1_5.csv\")\n",
    "credit_card_4_5.to_csv(\"credit_card_4_5.csv\")"
   ]
  },
  {
   "cell_type": "code",
   "execution_count": 162,
   "metadata": {},
   "outputs": [
    {
     "name": "stdout",
     "output_type": "stream",
     "text": [
      "credit_card_4_5 ->  (227840, 31)\n",
      "credit_card_1_5 ->  (56959, 31)\n"
     ]
    }
   ],
   "source": [
    "print(\"credit_card_4_5 -> \", credit_card_4_5.shape)\n",
    "print(\"credit_card_1_5 -> \", credit_card_1_5.shape)\n"
   ]
  },
  {
   "cell_type": "code",
   "execution_count": 163,
   "metadata": {},
   "outputs": [],
   "source": [
    "df = credit_card_4_5"
   ]
  },
  {
   "cell_type": "code",
   "execution_count": 164,
   "metadata": {},
   "outputs": [],
   "source": [
    "nonfraud = df[df.Class == 0]\n",
    "fraud = df[df.Class == 1]"
   ]
  },
  {
   "cell_type": "code",
   "execution_count": 165,
   "metadata": {},
   "outputs": [
    {
     "name": "stdout",
     "output_type": "stream",
     "text": [
      "(394, 31)\n",
      "(227446, 31)\n"
     ]
    }
   ],
   "source": [
    "print(fraud.shape)\n",
    "print(nonfraud.shape)"
   ]
  },
  {
   "cell_type": "code",
   "execution_count": 166,
   "metadata": {},
   "outputs": [
    {
     "name": "stdout",
     "output_type": "stream",
     "text": [
      "----------------------------------------------------------------------------------------------------\n",
      "----------------------------------------------------------------------------------------------------\n"
     ]
    }
   ],
   "source": [
    "print('-'*100)\n",
    "print('-'*100)"
   ]
  },
  {
   "cell_type": "markdown",
   "metadata": {},
   "source": [
    "# GAUSSIAN ANOMALY DETECTION\n"
   ]
  },
  {
   "cell_type": "code",
   "execution_count": 61,
   "metadata": {},
   "outputs": [],
   "source": [
    "from scipy.stats import multivariate_normal\n",
    "\n",
    "def estimateGaussian(dataset):\n",
    "    mu = np.mean(dataset, axis=0)\n",
    "    sigma = np.cov(dataset.T)\n",
    "    return mu, sigma\n",
    "\n",
    "def multivariateGaussian(dataset, mu, sigma):\n",
    "    p = multivariate_normal(mean = mu, cov = sigma)\n",
    "    return p.pdf(dataset)\n"
   ]
  },
  {
   "cell_type": "code",
   "execution_count": 62,
   "metadata": {},
   "outputs": [],
   "source": [
    "# Epsilon value is the threshold value,\n",
    "# below which we will mark transaction as Anomalous.\n",
    "\n",
    "def selectThresholdByCV(probs,gt):\n",
    "    best_epsilon = 0\n",
    "    best_f1 = 0\n",
    "    f = 0\n",
    "    farray = []\n",
    "    Recallarray = []\n",
    "    Precisionarray = []\n",
    "    epsilons = (0.0000e+00, 1.0527717316e-70, 1.0527717316e-50, 1.0527717316e-24)\n",
    "    for epsilon in epsilons:\n",
    "        predictions = (p_cv < epsilon)\n",
    "        f = f1_score(train_cv_y, predictions, average = \"binary\")\n",
    "        Recall = recall_score(train_cv_y, predictions, average = \"binary\")\n",
    "        Precision = precision_score(train_cv_y, predictions, average = \"binary\")\n",
    "        farray.append(f)\n",
    "        Recallarray.append(Recall)\n",
    "        Precisionarray.append(Precision)\n",
    "        print ('For below Epsilon')\n",
    "        print(epsilon)\n",
    "        print ('F1 score , Recall and Precision are as below')\n",
    "        print ('Best F1 Score %f' %f)\n",
    "        print ('Best Recall Score %f' %Recall)\n",
    "        print ('Best Precision Score %f' %Precision)\n",
    "        print ('-'*40)\n",
    "        if f > best_f1:\n",
    "            best_f1 = f\n",
    "            best_recall = Recall\n",
    "            best_precision = Precision\n",
    "            best_epsilon = epsilon    \n",
    "    fig = plt.figure()\n",
    "    ax = fig.add_axes([0.1, 0.5, 0.7, 0.3])\n",
    "    #plt.subplot(3,1,1)\n",
    "    plt.plot(farray ,\"ro\")\n",
    "    plt.plot(farray)\n",
    "    ax.set_xticks(range(5))\n",
    "    ax.set_xticklabels(epsilons,rotation = 60 ,fontsize = 'medium' )\n",
    "    ax.set_ylim((0,1.0))\n",
    "    ax.set_title('F1 score vs Epsilon value')\n",
    "    ax.annotate('Best F1 Score', xy=(best_epsilon,best_f1), xytext=(best_epsilon,best_f1))\n",
    "    plt.xlabel(\"Epsilon value\") \n",
    "    plt.ylabel(\"F1 Score\") \n",
    "    plt.show()\n",
    "    fig = plt.figure()\n",
    "    ax = fig.add_axes([0.1, 0.5, 0.9, 0.3])\n",
    "    #plt.subplot(3,1,2)\n",
    "    plt.plot(Recallarray ,\"ro\")\n",
    "    plt.plot(Recallarray)\n",
    "    ax.set_xticks(range(5))\n",
    "    ax.set_xticklabels(epsilons,rotation = 60 ,fontsize = 'medium' )\n",
    "    ax.set_ylim((0,1.0))\n",
    "    ax.set_title('Recall vs Epsilon value')\n",
    "    ax.annotate('Best Recall Score', xy=(best_epsilon,best_recall), xytext=(best_epsilon,best_recall))\n",
    "    plt.xlabel(\"Epsilon value\") \n",
    "    plt.ylabel(\"Recall Score\") \n",
    "    plt.show()\n",
    "    fig = plt.figure()\n",
    "    ax = fig.add_axes([0.1, 0.5, 0.9, 0.3])\n",
    "    #plt.subplot(3,1,3)\n",
    "    plt.plot(Precisionarray ,\"ro\")\n",
    "    plt.plot(Precisionarray)\n",
    "    ax.set_xticks(range(5))\n",
    "    ax.set_xticklabels(epsilons,rotation = 60 ,fontsize = 'medium' )\n",
    "    ax.set_ylim((0,1.0))\n",
    "    ax.set_title('Precision vs Epsilon value')\n",
    "    ax.annotate('Best Precision Score', xy=(best_epsilon,best_precision), xytext=(best_epsilon,best_precision))\n",
    "    plt.xlabel(\"Epsilon value\") \n",
    "    plt.ylabel(\"Precision Score\") \n",
    "    plt.show()\n",
    "    return best_f1, best_epsilon"
   ]
  },
  {
   "cell_type": "code",
   "execution_count": 169,
   "metadata": {},
   "outputs": [
    {
     "data": {
      "text/html": [
       "<div>\n",
       "<style scoped>\n",
       "    .dataframe tbody tr th:only-of-type {\n",
       "        vertical-align: middle;\n",
       "    }\n",
       "\n",
       "    .dataframe tbody tr th {\n",
       "        vertical-align: top;\n",
       "    }\n",
       "\n",
       "    .dataframe thead th {\n",
       "        text-align: right;\n",
       "    }\n",
       "</style>\n",
       "<table border=\"1\" class=\"dataframe\">\n",
       "  <thead>\n",
       "    <tr style=\"text-align: right;\">\n",
       "      <th></th>\n",
       "      <th>scaled_time</th>\n",
       "      <th>scaled_amount</th>\n",
       "      <th>V1</th>\n",
       "      <th>V2</th>\n",
       "      <th>V3</th>\n",
       "      <th>V4</th>\n",
       "      <th>V5</th>\n",
       "      <th>V6</th>\n",
       "      <th>V7</th>\n",
       "      <th>V8</th>\n",
       "      <th>...</th>\n",
       "      <th>V20</th>\n",
       "      <th>V21</th>\n",
       "      <th>V22</th>\n",
       "      <th>V23</th>\n",
       "      <th>V24</th>\n",
       "      <th>V25</th>\n",
       "      <th>V26</th>\n",
       "      <th>V27</th>\n",
       "      <th>V28</th>\n",
       "      <th>Class</th>\n",
       "    </tr>\n",
       "  </thead>\n",
       "  <tbody>\n",
       "    <tr>\n",
       "      <th>0</th>\n",
       "      <td>-0.994989</td>\n",
       "      <td>1.783399</td>\n",
       "      <td>-1.359807</td>\n",
       "      <td>-0.072781</td>\n",
       "      <td>2.536347</td>\n",
       "      <td>1.378155</td>\n",
       "      <td>-0.338321</td>\n",
       "      <td>0.462388</td>\n",
       "      <td>0.239599</td>\n",
       "      <td>0.098698</td>\n",
       "      <td>...</td>\n",
       "      <td>0.251412</td>\n",
       "      <td>-0.018307</td>\n",
       "      <td>0.277838</td>\n",
       "      <td>-0.110474</td>\n",
       "      <td>0.066928</td>\n",
       "      <td>0.128539</td>\n",
       "      <td>-0.189115</td>\n",
       "      <td>0.133558</td>\n",
       "      <td>-0.021053</td>\n",
       "      <td>0</td>\n",
       "    </tr>\n",
       "    <tr>\n",
       "      <th>1</th>\n",
       "      <td>-0.994989</td>\n",
       "      <td>-0.269843</td>\n",
       "      <td>1.191857</td>\n",
       "      <td>0.266151</td>\n",
       "      <td>0.166480</td>\n",
       "      <td>0.448154</td>\n",
       "      <td>0.060018</td>\n",
       "      <td>-0.082361</td>\n",
       "      <td>-0.078803</td>\n",
       "      <td>0.085102</td>\n",
       "      <td>...</td>\n",
       "      <td>-0.069083</td>\n",
       "      <td>-0.225775</td>\n",
       "      <td>-0.638672</td>\n",
       "      <td>0.101288</td>\n",
       "      <td>-0.339846</td>\n",
       "      <td>0.167170</td>\n",
       "      <td>0.125895</td>\n",
       "      <td>-0.008983</td>\n",
       "      <td>0.014724</td>\n",
       "      <td>0</td>\n",
       "    </tr>\n",
       "    <tr>\n",
       "      <th>2</th>\n",
       "      <td>-0.994978</td>\n",
       "      <td>4.984069</td>\n",
       "      <td>-1.358354</td>\n",
       "      <td>-1.340163</td>\n",
       "      <td>1.773209</td>\n",
       "      <td>0.379780</td>\n",
       "      <td>-0.503198</td>\n",
       "      <td>1.800499</td>\n",
       "      <td>0.791461</td>\n",
       "      <td>0.247676</td>\n",
       "      <td>...</td>\n",
       "      <td>0.524980</td>\n",
       "      <td>0.247998</td>\n",
       "      <td>0.771679</td>\n",
       "      <td>0.909412</td>\n",
       "      <td>-0.689281</td>\n",
       "      <td>-0.327642</td>\n",
       "      <td>-0.139097</td>\n",
       "      <td>-0.055353</td>\n",
       "      <td>-0.059752</td>\n",
       "      <td>0</td>\n",
       "    </tr>\n",
       "    <tr>\n",
       "      <th>3</th>\n",
       "      <td>-0.994978</td>\n",
       "      <td>1.418390</td>\n",
       "      <td>-0.966272</td>\n",
       "      <td>-0.185226</td>\n",
       "      <td>1.792993</td>\n",
       "      <td>-0.863291</td>\n",
       "      <td>-0.010309</td>\n",
       "      <td>1.247203</td>\n",
       "      <td>0.237609</td>\n",
       "      <td>0.377436</td>\n",
       "      <td>...</td>\n",
       "      <td>-0.208038</td>\n",
       "      <td>-0.108300</td>\n",
       "      <td>0.005274</td>\n",
       "      <td>-0.190321</td>\n",
       "      <td>-1.175575</td>\n",
       "      <td>0.647376</td>\n",
       "      <td>-0.221929</td>\n",
       "      <td>0.062723</td>\n",
       "      <td>0.061458</td>\n",
       "      <td>0</td>\n",
       "    </tr>\n",
       "    <tr>\n",
       "      <th>4</th>\n",
       "      <td>-0.994966</td>\n",
       "      <td>0.670626</td>\n",
       "      <td>-1.158233</td>\n",
       "      <td>0.877737</td>\n",
       "      <td>1.548718</td>\n",
       "      <td>0.403034</td>\n",
       "      <td>-0.407193</td>\n",
       "      <td>0.095921</td>\n",
       "      <td>0.592941</td>\n",
       "      <td>-0.270533</td>\n",
       "      <td>...</td>\n",
       "      <td>0.408542</td>\n",
       "      <td>-0.009431</td>\n",
       "      <td>0.798278</td>\n",
       "      <td>-0.137458</td>\n",
       "      <td>0.141267</td>\n",
       "      <td>-0.206010</td>\n",
       "      <td>0.502292</td>\n",
       "      <td>0.219422</td>\n",
       "      <td>0.215153</td>\n",
       "      <td>0</td>\n",
       "    </tr>\n",
       "  </tbody>\n",
       "</table>\n",
       "<p>5 rows × 31 columns</p>\n",
       "</div>"
      ],
      "text/plain": [
       "   scaled_time  scaled_amount        V1        V2        V3        V4  \\\n",
       "0    -0.994989       1.783399 -1.359807 -0.072781  2.536347  1.378155   \n",
       "1    -0.994989      -0.269843  1.191857  0.266151  0.166480  0.448154   \n",
       "2    -0.994978       4.984069 -1.358354 -1.340163  1.773209  0.379780   \n",
       "3    -0.994978       1.418390 -0.966272 -0.185226  1.792993 -0.863291   \n",
       "4    -0.994966       0.670626 -1.158233  0.877737  1.548718  0.403034   \n",
       "\n",
       "         V5        V6        V7        V8  ...       V20       V21       V22  \\\n",
       "0 -0.338321  0.462388  0.239599  0.098698  ...  0.251412 -0.018307  0.277838   \n",
       "1  0.060018 -0.082361 -0.078803  0.085102  ... -0.069083 -0.225775 -0.638672   \n",
       "2 -0.503198  1.800499  0.791461  0.247676  ...  0.524980  0.247998  0.771679   \n",
       "3 -0.010309  1.247203  0.237609  0.377436  ... -0.208038 -0.108300  0.005274   \n",
       "4 -0.407193  0.095921  0.592941 -0.270533  ...  0.408542 -0.009431  0.798278   \n",
       "\n",
       "        V23       V24       V25       V26       V27       V28  Class  \n",
       "0 -0.110474  0.066928  0.128539 -0.189115  0.133558 -0.021053      0  \n",
       "1  0.101288 -0.339846  0.167170  0.125895 -0.008983  0.014724      0  \n",
       "2  0.909412 -0.689281 -0.327642 -0.139097 -0.055353 -0.059752      0  \n",
       "3 -0.190321 -1.175575  0.647376 -0.221929  0.062723  0.061458      0  \n",
       "4 -0.137458  0.141267 -0.206010  0.502292  0.219422  0.215153      0  \n",
       "\n",
       "[5 rows x 31 columns]"
      ]
     },
     "execution_count": 169,
     "metadata": {},
     "output_type": "execute_result"
    }
   ],
   "source": [
    "df.head()"
   ]
  },
  {
   "cell_type": "code",
   "execution_count": 170,
   "metadata": {},
   "outputs": [],
   "source": [
    "from sklearn.ensemble import RandomForestClassifier\n",
    "\n",
    "# Feature Importance\n",
    "# To ease the Problem at hand, we use Feature importance to get rid \n",
    "# of unwanted features whose existance will not improve our prediction model. \n",
    "\n",
    "# For that, I have used random forest classifier to identify the influential fetures. \n",
    "\n",
    "rnd_clf = RandomForestClassifier(n_estimators = 100, criterion = 'entropy', random_state = 0)\n",
    "rnd_clf.fit(df.iloc[:,2:29],df.iloc[:,30]);\n"
   ]
  },
  {
   "cell_type": "code",
   "execution_count": 171,
   "metadata": {},
   "outputs": [
    {
     "data": {
      "text/html": [
       "        <script type=\"text/javascript\">\n",
       "        window.PlotlyConfig = {MathJaxConfig: 'local'};\n",
       "        if (window.MathJax) {MathJax.Hub.Config({SVG: {font: \"STIX-Web\"}});}\n",
       "        if (typeof require !== 'undefined') {\n",
       "        require.undef(\"plotly\");\n",
       "        requirejs.config({\n",
       "            paths: {\n",
       "                'plotly': ['https://cdn.plot.ly/plotly-latest.min']\n",
       "            }\n",
       "        });\n",
       "        require(['plotly'], function(Plotly) {\n",
       "            window._Plotly = Plotly;\n",
       "        });\n",
       "        }\n",
       "        </script>\n",
       "        "
      ]
     },
     "metadata": {},
     "output_type": "display_data"
    },
    {
     "data": {
      "application/vnd.plotly.v1+json": {
       "config": {
        "linkText": "Export to plot.ly",
        "plotlyServerURL": "https://plot.ly",
        "showLink": false
       },
       "data": [
        {
         "marker": {
          "color": [
           0.006904625049172235,
           0.007716252558202854,
           0.007730295892490022,
           0.008190287268269402,
           0.008296154041233898,
           0.009702132704256862,
           0.009836694080771384,
           0.009972703264832405,
           0.010076180039887233,
           0.01138841788716613,
           0.011416387244394659,
           0.011565773827055351,
           0.01314966795351543,
           0.013262027577396002,
           0.013984813476514112,
           0.014697306004737157,
           0.019031143851009794,
           0.02467910766347679,
           0.030712431429178164,
           0.03158150616156403,
           0.037256762521185725,
           0.0410131479933458,
           0.08579409969519784,
           0.09070946930654461,
           0.11916933093595092,
           0.15442832716606292,
           0.19773495440658811
          ],
          "colorscale": "Viridis",
          "reversescale": true
         },
         "name": "Random Forest Feature importance",
         "orientation": "h",
         "type": "bar",
         "uid": "bcdb757c-7075-4248-8ccb-272860741daf",
         "x": [
          0.006904625049172235,
          0.007716252558202854,
          0.007730295892490022,
          0.008190287268269402,
          0.008296154041233898,
          0.009702132704256862,
          0.009836694080771384,
          0.009972703264832405,
          0.010076180039887233,
          0.01138841788716613,
          0.011416387244394659,
          0.011565773827055351,
          0.01314966795351543,
          0.013262027577396002,
          0.013984813476514112,
          0.014697306004737157,
          0.019031143851009794,
          0.02467910766347679,
          0.030712431429178164,
          0.03158150616156403,
          0.037256762521185725,
          0.0410131479933458,
          0.08579409969519784,
          0.09070946930654461,
          0.11916933093595092,
          0.15442832716606292,
          0.19773495440658811
         ],
         "y": [
          "V22",
          "V24",
          "V23",
          "V25",
          "V13",
          "V15",
          "V27",
          "V8",
          "V1",
          "V2",
          "V5",
          "V26",
          "V19",
          "V20",
          "V6",
          "V21",
          "V7",
          "V3",
          "V9",
          "V18",
          "V16",
          "V4",
          "V10",
          "V11",
          "V12",
          "V14",
          "V17"
         ]
        }
       ],
       "layout": {
        "height": 1000,
        "margin": {
         "l": 300
        },
        "title": {
         "text": "Barplot of Feature importances"
        },
        "width": 600,
        "yaxis": {
         "showgrid": false,
         "showline": false,
         "showticklabels": true
        }
       }
      },
      "text/html": [
       "<div>\n",
       "        \n",
       "        \n",
       "            <div id=\"5a7ed6c4-45c4-4086-8ae5-25798a5e567b\" class=\"plotly-graph-div\" style=\"height:1000px; width:600px;\"></div>\n",
       "            <script type=\"text/javascript\">\n",
       "                require([\"plotly\"], function(Plotly) {\n",
       "                    window.PLOTLYENV=window.PLOTLYENV || {};\n",
       "                    window.PLOTLYENV.BASE_URL='https://plot.ly';\n",
       "                    \n",
       "                if (document.getElementById(\"5a7ed6c4-45c4-4086-8ae5-25798a5e567b\")) {\n",
       "                    Plotly.newPlot(\n",
       "                        '5a7ed6c4-45c4-4086-8ae5-25798a5e567b',\n",
       "                        [{\"marker\": {\"color\": [0.006904625049172235, 0.007716252558202854, 0.007730295892490022, 0.008190287268269402, 0.008296154041233898, 0.009702132704256862, 0.009836694080771384, 0.009972703264832405, 0.010076180039887233, 0.01138841788716613, 0.011416387244394659, 0.011565773827055351, 0.01314966795351543, 0.013262027577396002, 0.013984813476514112, 0.014697306004737157, 0.019031143851009794, 0.02467910766347679, 0.030712431429178164, 0.03158150616156403, 0.037256762521185725, 0.0410131479933458, 0.08579409969519784, 0.09070946930654461, 0.11916933093595092, 0.15442832716606292, 0.19773495440658811], \"colorscale\": \"Viridis\", \"reversescale\": true}, \"name\": \"Random Forest Feature importance\", \"orientation\": \"h\", \"type\": \"bar\", \"uid\": \"bcdb757c-7075-4248-8ccb-272860741daf\", \"x\": [0.006904625049172235, 0.007716252558202854, 0.007730295892490022, 0.008190287268269402, 0.008296154041233898, 0.009702132704256862, 0.009836694080771384, 0.009972703264832405, 0.010076180039887233, 0.01138841788716613, 0.011416387244394659, 0.011565773827055351, 0.01314966795351543, 0.013262027577396002, 0.013984813476514112, 0.014697306004737157, 0.019031143851009794, 0.02467910766347679, 0.030712431429178164, 0.03158150616156403, 0.037256762521185725, 0.0410131479933458, 0.08579409969519784, 0.09070946930654461, 0.11916933093595092, 0.15442832716606292, 0.19773495440658811], \"y\": [\"V22\", \"V24\", \"V23\", \"V25\", \"V13\", \"V15\", \"V27\", \"V8\", \"V1\", \"V2\", \"V5\", \"V26\", \"V19\", \"V20\", \"V6\", \"V21\", \"V7\", \"V3\", \"V9\", \"V18\", \"V16\", \"V4\", \"V10\", \"V11\", \"V12\", \"V14\", \"V17\"]}],\n",
       "                        {\"height\": 1000, \"margin\": {\"l\": 300}, \"title\": {\"text\": \"Barplot of Feature importances\"}, \"width\": 600, \"yaxis\": {\"showgrid\": false, \"showline\": false, \"showticklabels\": true}},\n",
       "                        {\"showLink\": false, \"linkText\": \"Export to plot.ly\", \"plotlyServerURL\": \"https://plot.ly\", \"responsive\": true}\n",
       "                    ).then(function(){\n",
       "                            \n",
       "var gd = document.getElementById('5a7ed6c4-45c4-4086-8ae5-25798a5e567b');\n",
       "var x = new MutationObserver(function (mutations, observer) {{\n",
       "        var display = window.getComputedStyle(gd).display;\n",
       "        if (!display || display === 'none') {{\n",
       "            console.log([gd, 'removed!']);\n",
       "            Plotly.purge(gd);\n",
       "            observer.disconnect();\n",
       "        }}\n",
       "}});\n",
       "\n",
       "// Listen for the removal of the full notebook cells\n",
       "var notebookContainer = gd.closest('#notebook-container');\n",
       "if (notebookContainer) {{\n",
       "    x.observe(notebookContainer, {childList: true});\n",
       "}}\n",
       "\n",
       "// Listen for the clearing of the current output cell\n",
       "var outputEl = gd.closest('.output');\n",
       "if (outputEl) {{\n",
       "    x.observe(outputEl, {childList: true});\n",
       "}}\n",
       "\n",
       "                        })\n",
       "                };\n",
       "                });\n",
       "            </script>\n",
       "        </div>"
      ]
     },
     "metadata": {},
     "output_type": "display_data"
    }
   ],
   "source": [
    "# Visualizing feature importance\n",
    "import plotly.graph_objs as go\n",
    "from plotly.offline import download_plotlyjs,init_notebook_mode,plot,iplot\n",
    "init_notebook_mode(connected=True)\n",
    "\n",
    "x, y = (list(x) for x in zip(*sorted(zip(rnd_clf.feature_importances_, df.iloc[:,2:29].columns), \n",
    "                                     reverse = False)))\n",
    "trace2 = go.Bar(\n",
    "    x = x ,\n",
    "    y = y,\n",
    "    marker = dict(color=x, colorscale = 'Viridis', reversescale = True),\n",
    "    name = 'Random Forest Feature importance',\n",
    "    orientation = 'h',\n",
    ")\n",
    "\n",
    "layout = dict(\n",
    "    title='Barplot of Feature importances',\n",
    "    width = 600, height = 1000,\n",
    "    yaxis=dict( showgrid=False, showline=False, showticklabels=True),\n",
    "    margin=dict(l=300),\n",
    ")\n",
    "\n",
    "fig1 = go.Figure(data=[trace2], layout=layout)\n",
    "iplot(fig1)"
   ]
  },
  {
   "cell_type": "code",
   "execution_count": 172,
   "metadata": {},
   "outputs": [
    {
     "name": "stdout",
     "output_type": "stream",
     "text": [
      "Relatively More Important Features\n",
      "\"V3\",\n",
      "\"V4\",\n",
      "\"V7\",\n",
      "\"V9\",\n",
      "\"V10\",\n",
      "\"V11\",\n",
      "\"V12\",\n",
      "\"V14\",\n",
      "\"V16\",\n",
      "\"V17\",\n",
      "\"V18\",\n"
     ]
    }
   ],
   "source": [
    "print(\"Relatively More Important Features\")\n",
    "for name, importance in zip(df.iloc[:,2:29].columns, rnd_clf.feature_importances_):\n",
    "    if importance > 0.015 :\n",
    "        print('\"' + name + '\"'+',')"
   ]
  },
  {
   "cell_type": "code",
   "execution_count": 173,
   "metadata": {},
   "outputs": [],
   "source": [
    "# Dropping less important features\n",
    "drop_features = ['V1','V2','V5','V6','V8','V13','V15','V19','V20','V21','V22','V23','V24','V25','V26','V27','V28']\n",
    "df.drop(drop_features, axis =1, inplace = True)\n"
   ]
  },
  {
   "cell_type": "code",
   "execution_count": 185,
   "metadata": {},
   "outputs": [
    {
     "data": {
      "text/plain": [
       "(227840, 14)"
      ]
     },
     "execution_count": 185,
     "metadata": {},
     "output_type": "execute_result"
    }
   ],
   "source": [
    "df.shape"
   ]
  },
  {
   "cell_type": "code",
   "execution_count": 187,
   "metadata": {},
   "outputs": [],
   "source": [
    "train_strip_v1 = df[df[\"Class\"] == 1]\n",
    "train_strip_v0 = df[df[\"Class\"] == 0]"
   ]
  },
  {
   "cell_type": "code",
   "execution_count": 189,
   "metadata": {},
   "outputs": [],
   "source": [
    "Normal_len = len (train_strip_v0)\n",
    "Anomolous_len = len (train_strip_v1)\n",
    "\n",
    "start_mid = Anomolous_len // 2\n",
    "start_midway = start_mid + 1\n",
    "\n",
    "train_cv_v1  = train_strip_v1 [: start_mid]\n",
    "train_test_v1 = train_strip_v1 [start_midway:Anomolous_len]\n",
    "\n",
    "start_mid = (Normal_len * 60) // 100\n",
    "start_midway = start_mid + 1\n",
    "\n",
    "cv_mid = (Normal_len * 80) // 100\n",
    "cv_midway = cv_mid + 1\n",
    "\n",
    "train_fraud = train_strip_v0 [:start_mid]\n",
    "train_cv    = train_strip_v0 [start_midway:cv_mid]\n",
    "train_test  = train_strip_v0 [cv_midway:Normal_len]\n",
    "\n",
    "train_cv = pd.concat([train_cv,train_cv_v1],axis=0)\n",
    "train_test = pd.concat([train_test,train_test_v1],axis=0)\n",
    "\n",
    "train_cv_y = train_cv[\"Class\"]\n",
    "train_test_y = train_test[\"Class\"]\n",
    "\n",
    "train_cv.drop(labels = [\"Class\"], axis = 1, inplace = True)\n",
    "train_fraud.drop(labels = [\"Class\"], axis = 1, inplace = True)\n",
    "train_test.drop(labels = [\"Class\"], axis = 1, inplace = True)"
   ]
  },
  {
   "cell_type": "code",
   "execution_count": 191,
   "metadata": {},
   "outputs": [],
   "source": [
    "# Finding Probabilities\n",
    "\n",
    "mu, sigma = estimateGaussian(train_fraud)\n",
    "p = multivariateGaussian(train_fraud,mu,sigma)\n",
    "p_cv = multivariateGaussian(train_cv,mu,sigma)\n",
    "p_test = multivariateGaussian(train_test,mu,sigma)"
   ]
  },
  {
   "cell_type": "code",
   "execution_count": 192,
   "metadata": {},
   "outputs": [
    {
     "name": "stdout",
     "output_type": "stream",
     "text": [
      "For below Epsilon\n",
      "0.0\n",
      "F1 score , Recall and Precision are as below\n",
      "Best F1 Score 0.000000\n",
      "Best Recall Score 0.000000\n",
      "Best Precision Score 0.000000\n",
      "----------------------------------------\n",
      "For below Epsilon\n",
      "1.0527717316e-70\n",
      "F1 score , Recall and Precision are as below\n",
      "Best F1 Score 0.788462\n",
      "Best Recall Score 0.832487\n",
      "Best Precision Score 0.748858\n",
      "----------------------------------------\n",
      "For below Epsilon\n",
      "1.0527717316e-50\n",
      "F1 score , Recall and Precision are as below\n",
      "Best F1 Score 0.696538\n",
      "Best Recall Score 0.868020\n",
      "Best Precision Score 0.581633\n",
      "----------------------------------------\n",
      "For below Epsilon\n",
      "1.0527717316e-24\n",
      "F1 score , Recall and Precision are as below\n",
      "Best F1 Score 0.375000\n",
      "Best Recall Score 0.883249\n",
      "Best Precision Score 0.238030\n",
      "----------------------------------------\n"
     ]
    },
    {
     "data": {
      "image/png": "[encoded data removed]",
      "text/plain": [
       "<Figure size 432x288 with 1 Axes>"
      ]
     },
     "metadata": {
      "needs_background": "light"
     },
     "output_type": "display_data"
    },
    {
     "data": {
      "image/png": "[encoded data removed]",
      "text/plain": [
       "<Figure size 432x288 with 1 Axes>"
      ]
     },
     "metadata": {
      "needs_background": "light"
     },
     "output_type": "display_data"
    },
    {
     "data": {
      "image/png": "[encoded data removed]",
      "text/plain": [
       "<Figure size 432x288 with 1 Axes>"
      ]
     },
     "metadata": {
      "needs_background": "light"
     },
     "output_type": "display_data"
    }
   ],
   "source": [
    "# Performance wrt to Epsilon values\n",
    "\n",
    "fscore, ep= selectThresholdByCV(p_cv,train_cv_y)"
   ]
  },
  {
   "cell_type": "code",
   "execution_count": 197,
   "metadata": {},
   "outputs": [
    {
     "name": "stdout",
     "output_type": "stream",
     "text": [
      "PREDICTIONS ON CROSS-VALIDATION SET\n",
      "\n",
      "F1 score , Recall and Precision for Cross Validation dataset\n",
      "Best F1 Score 0.788462\n",
      "Best Recall Score 0.832487\n",
      "Best Precision Score 0.748858\n"
     ]
    }
   ],
   "source": [
    "from sklearn.metrics import f1_score\n",
    "from sklearn.metrics import recall_score , average_precision_score\n",
    "from sklearn.metrics import precision_score, precision_recall_curve\n",
    "\n",
    "print(\"PREDICTIONS ON CROSS-VALIDATION SET\\n\")\n",
    "predictions = (p_cv < ep)\n",
    "Recall = recall_score(train_cv_y, predictions, average = \"binary\")    \n",
    "Precision = precision_score(train_cv_y, predictions, average = \"binary\")\n",
    "F1score = f1_score(train_cv_y, predictions, average = \"binary\")    \n",
    "print ('F1 score , Recall and Precision for Cross Validation dataset')\n",
    "print ('Best F1 Score %f' %F1score)\n",
    "print ('Best Recall Score %f' %Recall)\n",
    "print ('Best Precision Score %f' %Precision)"
   ]
  },
  {
   "cell_type": "code",
   "execution_count": 198,
   "metadata": {},
   "outputs": [
    {
     "name": "stdout",
     "output_type": "stream",
     "text": [
      "PREDICTIONS ON TEST SET\n",
      "\n",
      "F1 score , Recall and Precision for Test dataset\n",
      "Best F1 Score 0.723514\n",
      "Best Recall Score 0.714286\n",
      "Best Precision Score 0.732984\n"
     ]
    }
   ],
   "source": [
    "print(\"PREDICTIONS ON TEST SET\\n\")\n",
    "predictions = (p_test < ep)\n",
    "Recall = recall_score(train_test_y, predictions, average = \"binary\")    \n",
    "Precision = precision_score(train_test_y, predictions, average = \"binary\")\n",
    "F1score = f1_score(train_test_y, predictions, average = \"binary\")    \n",
    "print ('F1 score , Recall and Precision for Test dataset')\n",
    "print ('Best F1 Score %f' %F1score)\n",
    "print ('Best Recall Score %f' %Recall)\n",
    "print ('Best Precision Score %f' %Precision)"
   ]
  },
  {
   "cell_type": "code",
   "execution_count": 195,
   "metadata": {},
   "outputs": [
    {
     "data": {
      "image/png": "[encoded data removed]",
      "text/plain": [
       "<Figure size 720x720 with 1 Axes>"
      ]
     },
     "metadata": {
      "needs_background": "light"
     },
     "output_type": "display_data"
    }
   ],
   "source": [
    "fig, ax = plt.subplots(figsize=(10, 10))\n",
    "ax.scatter(train_test['V14'],train_test['V11'],marker=\"o\", color=\"lightBlue\")\n",
    "ax.set_title('Anomalies(in red) vs Predicted Anomalies(in Green)')\n",
    "for i, txt in enumerate(train_test['V14'].index):\n",
    "       if train_test_y.loc[txt] == 1 :\n",
    "            ax.annotate('*', (train_test['V14'].loc[txt],train_test['V11'].loc[txt]),fontsize=13,color='Red')\n",
    "       if predictions[i] == True :\n",
    "            ax.annotate('o', (train_test['V14'].loc[txt],train_test['V11'].loc[txt]),fontsize=15,color='Green')"
   ]
  },
  {
   "cell_type": "markdown",
   "metadata": {},
   "source": [
    "# ISOLATION FOREST "
   ]
  },
  {
   "cell_type": "code",
   "execution_count": 24,
   "metadata": {},
   "outputs": [],
   "source": [
    "from sklearn.ensemble import IsolationForest\n",
    "from sklearn.metrics import confusion_matrix, classification_report, accuracy_score"
   ]
  },
  {
   "cell_type": "code",
   "execution_count": 25,
   "metadata": {},
   "outputs": [],
   "source": [
    "X_test = credit_card_1_5.drop('Class',axis=1)\n",
    "y_test = credit_card_1_5['Class']"
   ]
  },
  {
   "cell_type": "code",
   "execution_count": 26,
   "metadata": {},
   "outputs": [
    {
     "name": "stderr",
     "output_type": "stream",
     "text": [
      "/Users/nimishagarwal/anaconda3/envs/Data-Science-with-Python/lib/python3.6/site-packages/sklearn/ensemble/iforest.py:247: FutureWarning: behaviour=\"old\" is deprecated and will be removed in version 0.22. Please use behaviour=\"new\", which makes the decision_function change to match other anomaly detection algorithm API.\n",
      "  FutureWarning)\n",
      "/Users/nimishagarwal/anaconda3/envs/Data-Science-with-Python/lib/python3.6/site-packages/sklearn/ensemble/iforest.py:415: DeprecationWarning: threshold_ attribute is deprecated in 0.20 and will be removed in 0.22.\n",
      "  \" be removed in 0.22.\", DeprecationWarning)\n"
     ]
    },
    {
     "name": "stdout",
     "output_type": "stream",
     "text": [
      "[[43543 13318]\n",
      " [   10    88]]\n",
      "0.7660071279341281\n",
      "              precision    recall  f1-score   support\n",
      "\n",
      "           0       1.00      0.77      0.87     56861\n",
      "           1       0.01      0.90      0.01        98\n",
      "\n",
      "    accuracy                           0.77     56959\n",
      "   macro avg       0.50      0.83      0.44     56959\n",
      "weighted avg       1.00      0.77      0.87     56959\n",
      "\n",
      "Total number of Transactions classified as Fraudulent:  13406\n",
      "Number of Fraudulent Transactions classified as Non-fraudulent:  10 out of 98\n"
     ]
    },
    {
     "data": {
      "image/png": "[encoded data removed]",
      "text/plain": [
       "<Figure size 432x288 with 1 Axes>"
      ]
     },
     "metadata": {
      "needs_background": "light"
     },
     "output_type": "display_data"
    }
   ],
   "source": [
    "nonfraud_sample = nonfraud.sample(n=1000)\n",
    "df_outlier=pd.concat([fraud,nonfraud_sample])\n",
    "X_train = df_outlier.drop('Class', axis=1)\n",
    "y_train = df_outlier['Class']\n",
    "\n",
    "state = 1\n",
    "outlier_fraction = len(fraud)/float(len(nonfraud_sample))\n",
    "\n",
    "clf = IsolationForest(max_samples=len(X_train), contamination = outlier_fraction, random_state = state)\n",
    "clf.fit(X_train)\n",
    "y_pred = clf.predict(X_test)\n",
    "y_pred[y_pred == 1] = 0\n",
    "y_pred[y_pred == -1] = 1\n",
    "y_pred = pd.DataFrame(y_pred)\n",
    "\n",
    "mat = confusion_matrix(y_test,y_pred)\n",
    "print(mat)\n",
    "print(accuracy_score(y_test,y_pred))\n",
    "print(classification_report(y_test,y_pred))\n",
    "print(\"Total number of Transactions classified as Fraudulent: \", mat[1][1]+mat[0][1])\n",
    "print(\"Number of Fraudulent Transactions classified as Non-fraudulent: \", mat[1][0], \"out of 98\")\n",
    "\n",
    "from sklearn.metrics import roc_curve\n",
    "from matplotlib import pyplot\n",
    "fpr, tpr, thresholds = roc_curve(y_test, y_pred)\n",
    "pyplot.plot([0, 1], [0, 1], linestyle='--')\n",
    "# plot the roc curve for the model\n",
    "pyplot.plot(fpr, tpr, marker='.')\n",
    "pyplot.xlabel('False Positive Rate')\n",
    "pyplot.ylabel('True Positive Rate')\n",
    "pyplot.title('ROC curve when n = 1000')\n",
    "# show the plot\n",
    "pyplot.show()"
   ]
  },
  {
   "cell_type": "code",
   "execution_count": 27,
   "metadata": {},
   "outputs": [
    {
     "name": "stderr",
     "output_type": "stream",
     "text": [
      "/Users/nimishagarwal/anaconda3/envs/Data-Science-with-Python/lib/python3.6/site-packages/sklearn/ensemble/iforest.py:247: FutureWarning: behaviour=\"old\" is deprecated and will be removed in version 0.22. Please use behaviour=\"new\", which makes the decision_function change to match other anomaly detection algorithm API.\n",
      "  FutureWarning)\n",
      "/Users/nimishagarwal/anaconda3/envs/Data-Science-with-Python/lib/python3.6/site-packages/sklearn/ensemble/iforest.py:415: DeprecationWarning: threshold_ attribute is deprecated in 0.20 and will be removed in 0.22.\n",
      "  \" be removed in 0.22.\", DeprecationWarning)\n"
     ]
    },
    {
     "name": "stdout",
     "output_type": "stream",
     "text": [
      "[[56656   205]\n",
      " [   50    48]]\n",
      "0.9955230955599642\n",
      "              precision    recall  f1-score   support\n",
      "\n",
      "           0       1.00      1.00      1.00     56861\n",
      "           1       0.19      0.49      0.27        98\n",
      "\n",
      "    accuracy                           1.00     56959\n",
      "   macro avg       0.59      0.74      0.64     56959\n",
      "weighted avg       1.00      1.00      1.00     56959\n",
      "\n",
      "Total number of Transactions classified as Fraudulent:  253\n",
      "Number of Fraudulent Transactions classified as Non-fraudulent:  50 out of 98\n"
     ]
    },
    {
     "data": {
      "image/png": "[encoded data removed]",
      "text/plain": [
       "<Figure size 432x288 with 1 Axes>"
      ]
     },
     "metadata": {
      "needs_background": "light"
     },
     "output_type": "display_data"
    }
   ],
   "source": [
    "nonfraud_sample = nonfraud.sample(n=45000)\n",
    "df_outlier=pd.concat([fraud,nonfraud_sample])\n",
    "X_train = df_outlier.drop('Class', axis=1)\n",
    "y_train = df_outlier['Class']\n",
    "\n",
    "state = 1\n",
    "outlier_fraction = len(fraud)/float(len(nonfraud_sample))\n",
    "\n",
    "clf = IsolationForest(max_samples=len(X_train), contamination = outlier_fraction, random_state = state)\n",
    "clf.fit(X_train)\n",
    "y_pred = clf.predict(X_test)\n",
    "y_pred[y_pred == 1] = 0\n",
    "y_pred[y_pred == -1] = 1\n",
    "y_pred = pd.DataFrame(y_pred)\n",
    "\n",
    "mat = confusion_matrix(y_test,y_pred)\n",
    "print(mat)\n",
    "print(accuracy_score(y_test,y_pred))\n",
    "print(classification_report(y_test,y_pred))\n",
    "print(\"Total number of Transactions classified as Fraudulent: \", mat[1][1]+mat[0][1])\n",
    "print(\"Number of Fraudulent Transactions classified as Non-fraudulent: \", mat[1][0], \"out of 98\")\n",
    "\n",
    "from sklearn.metrics import roc_curve\n",
    "from matplotlib import pyplot\n",
    "fpr, tpr, thresholds = roc_curve(y_test, y_pred)\n",
    "pyplot.plot([0, 1], [0, 1], linestyle='--')\n",
    "# plot the roc curve for the model\n",
    "pyplot.plot(fpr, tpr, marker='.')\n",
    "pyplot.xlabel('False Positive Rate')\n",
    "pyplot.ylabel('True Positive Rate')\n",
    "pyplot.title('ROC curve when n = 1000')\n",
    "# show the plot\n",
    "pyplot.show()"
   ]
  },
  {
   "cell_type": "code",
   "execution_count": 28,
   "metadata": {
    "scrolled": false
   },
   "outputs": [
    {
     "name": "stderr",
     "output_type": "stream",
     "text": [
      "/Users/nimishagarwal/anaconda3/envs/Data-Science-with-Python/lib/python3.6/site-packages/sklearn/ensemble/iforest.py:247: FutureWarning: behaviour=\"old\" is deprecated and will be removed in version 0.22. Please use behaviour=\"new\", which makes the decision_function change to match other anomaly detection algorithm API.\n",
      "  FutureWarning)\n",
      "/Users/nimishagarwal/anaconda3/envs/Data-Science-with-Python/lib/python3.6/site-packages/sklearn/ensemble/iforest.py:415: DeprecationWarning: threshold_ attribute is deprecated in 0.20 and will be removed in 0.22.\n",
      "  \" be removed in 0.22.\", DeprecationWarning)\n"
     ]
    },
    {
     "name": "stdout",
     "output_type": "stream",
     "text": [
      "[[55076  1785]\n",
      " [   29    69]]\n",
      "0.9681525307677452\n",
      "              precision    recall  f1-score   support\n",
      "\n",
      "           0       1.00      0.97      0.98     56861\n",
      "           1       0.04      0.70      0.07        98\n",
      "\n",
      "    accuracy                           0.97     56959\n",
      "   macro avg       0.52      0.84      0.53     56959\n",
      "weighted avg       1.00      0.97      0.98     56959\n",
      "\n",
      "Total number of Transactions classified as Fraudulent:  1854\n",
      "Number of Fraudulent Transactions classified as Non-fraudulent:  29 out of 98\n"
     ]
    },
    {
     "data": {
      "image/png": "[encoded data removed]",
      "text/plain": [
       "<Figure size 432x288 with 1 Axes>"
      ]
     },
     "metadata": {
      "needs_background": "light"
     },
     "output_type": "display_data"
    }
   ],
   "source": [
    "nonfraud_sample = nonfraud.sample(n=5000)\n",
    "df_outlier=pd.concat([fraud,nonfraud_sample])\n",
    "X_train = df_outlier.drop('Class', axis=1)\n",
    "y_train = df_outlier['Class']\n",
    "\n",
    "state = 1\n",
    "outlier_fraction = len(fraud)/float(len(nonfraud_sample))\n",
    "\n",
    "clf = IsolationForest(max_samples=len(X_train), contamination = outlier_fraction, random_state = state)\n",
    "clf.fit(X_train)\n",
    "y_pred = clf.predict(X_test)\n",
    "y_pred[y_pred == 1] = 0\n",
    "y_pred[y_pred == -1] = 1\n",
    "y_pred = pd.DataFrame(y_pred)\n",
    "\n",
    "mat = confusion_matrix(y_test,y_pred)\n",
    "print(mat)\n",
    "print(accuracy_score(y_test,y_pred))\n",
    "print(classification_report(y_test,y_pred))\n",
    "print(\"Total number of Transactions classified as Fraudulent: \", mat[1][1]+mat[0][1])\n",
    "print(\"Number of Fraudulent Transactions classified as Non-fraudulent: \", mat[1][0], \"out of 98\")\n",
    "\n",
    "\n",
    "from sklearn.metrics import roc_curve\n",
    "from matplotlib import pyplot\n",
    "fpr, tpr, thresholds = roc_curve(y_test, y_pred)\n",
    "pyplot.plot([0, 1], [0, 1], linestyle='--')\n",
    "# plot the roc curve for the model\n",
    "pyplot.plot(fpr, tpr, marker='.')\n",
    "pyplot.xlabel('False Positive Rate')\n",
    "pyplot.ylabel('True Positive Rate')\n",
    "pyplot.title('ROC curve when n = 1000')\n",
    "# show the plot\n",
    "pyplot.show()\n"
   ]
  },
  {
   "cell_type": "code",
   "execution_count": 38,
   "metadata": {},
   "outputs": [],
   "source": [
    "y_pred_iso = y_pred"
   ]
  },
  {
   "cell_type": "code",
   "execution_count": null,
   "metadata": {},
   "outputs": [],
   "source": []
  },
  {
   "cell_type": "markdown",
   "metadata": {},
   "source": [
    "# CLASSIFICATION MODELS"
   ]
  },
  {
   "cell_type": "code",
   "execution_count": 29,
   "metadata": {},
   "outputs": [
    {
     "data": {
      "text/html": [
       "<div>\n",
       "<style scoped>\n",
       "    .dataframe tbody tr th:only-of-type {\n",
       "        vertical-align: middle;\n",
       "    }\n",
       "\n",
       "    .dataframe tbody tr th {\n",
       "        vertical-align: top;\n",
       "    }\n",
       "\n",
       "    .dataframe thead th {\n",
       "        text-align: right;\n",
       "    }\n",
       "</style>\n",
       "<table border=\"1\" class=\"dataframe\">\n",
       "  <thead>\n",
       "    <tr style=\"text-align: right;\">\n",
       "      <th></th>\n",
       "      <th>Unnamed: 0</th>\n",
       "      <th>scaled_time</th>\n",
       "      <th>scaled_amount</th>\n",
       "      <th>V1</th>\n",
       "      <th>V2</th>\n",
       "      <th>V3</th>\n",
       "      <th>V4</th>\n",
       "      <th>V5</th>\n",
       "      <th>V6</th>\n",
       "      <th>V7</th>\n",
       "      <th>...</th>\n",
       "      <th>V20</th>\n",
       "      <th>V21</th>\n",
       "      <th>V22</th>\n",
       "      <th>V23</th>\n",
       "      <th>V24</th>\n",
       "      <th>V25</th>\n",
       "      <th>V26</th>\n",
       "      <th>V27</th>\n",
       "      <th>V28</th>\n",
       "      <th>Class</th>\n",
       "    </tr>\n",
       "  </thead>\n",
       "  <tbody>\n",
       "    <tr>\n",
       "      <th>138911</th>\n",
       "      <td>244693</td>\n",
       "      <td>0.796053</td>\n",
       "      <td>0.168250</td>\n",
       "      <td>-20.054939</td>\n",
       "      <td>-22.375260</td>\n",
       "      <td>-3.148811</td>\n",
       "      <td>10.278237</td>\n",
       "      <td>12.511889</td>\n",
       "      <td>-5.078274</td>\n",
       "      <td>-4.482576</td>\n",
       "      <td>...</td>\n",
       "      <td>-5.076221</td>\n",
       "      <td>-2.563489</td>\n",
       "      <td>-0.841853</td>\n",
       "      <td>-7.417014</td>\n",
       "      <td>0.189711</td>\n",
       "      <td>-0.430262</td>\n",
       "      <td>0.396790</td>\n",
       "      <td>-1.374834</td>\n",
       "      <td>4.608702</td>\n",
       "      <td>0</td>\n",
       "    </tr>\n",
       "    <tr>\n",
       "      <th>227571</th>\n",
       "      <td>154234</td>\n",
       "      <td>0.190713</td>\n",
       "      <td>-0.293460</td>\n",
       "      <td>-23.984747</td>\n",
       "      <td>16.697832</td>\n",
       "      <td>-22.209875</td>\n",
       "      <td>9.584969</td>\n",
       "      <td>-16.230439</td>\n",
       "      <td>2.596333</td>\n",
       "      <td>-33.239328</td>\n",
       "      <td>...</td>\n",
       "      <td>5.804551</td>\n",
       "      <td>-12.615023</td>\n",
       "      <td>5.774087</td>\n",
       "      <td>2.750221</td>\n",
       "      <td>0.513411</td>\n",
       "      <td>-1.608804</td>\n",
       "      <td>-0.459624</td>\n",
       "      <td>-4.626127</td>\n",
       "      <td>-0.334561</td>\n",
       "      <td>1</td>\n",
       "    </tr>\n",
       "    <tr>\n",
       "      <th>227537</th>\n",
       "      <td>102782</td>\n",
       "      <td>-0.191899</td>\n",
       "      <td>-0.033678</td>\n",
       "      <td>1.232604</td>\n",
       "      <td>-0.548931</td>\n",
       "      <td>1.087873</td>\n",
       "      <td>0.894082</td>\n",
       "      <td>-1.433055</td>\n",
       "      <td>-0.356797</td>\n",
       "      <td>-0.717492</td>\n",
       "      <td>...</td>\n",
       "      <td>-0.576274</td>\n",
       "      <td>-0.448671</td>\n",
       "      <td>-0.517568</td>\n",
       "      <td>0.012833</td>\n",
       "      <td>0.699217</td>\n",
       "      <td>0.527258</td>\n",
       "      <td>-0.322607</td>\n",
       "      <td>0.080805</td>\n",
       "      <td>0.035427</td>\n",
       "      <td>1</td>\n",
       "    </tr>\n",
       "    <tr>\n",
       "      <th>227820</th>\n",
       "      <td>167305</td>\n",
       "      <td>0.398414</td>\n",
       "      <td>1.172303</td>\n",
       "      <td>-6.677212</td>\n",
       "      <td>5.529299</td>\n",
       "      <td>-7.193275</td>\n",
       "      <td>6.081321</td>\n",
       "      <td>-1.636071</td>\n",
       "      <td>0.500610</td>\n",
       "      <td>-4.640770</td>\n",
       "      <td>...</td>\n",
       "      <td>-1.118687</td>\n",
       "      <td>5.563301</td>\n",
       "      <td>-1.608272</td>\n",
       "      <td>0.965322</td>\n",
       "      <td>0.163718</td>\n",
       "      <td>0.047531</td>\n",
       "      <td>0.466165</td>\n",
       "      <td>0.278547</td>\n",
       "      <td>1.471988</td>\n",
       "      <td>1</td>\n",
       "    </tr>\n",
       "    <tr>\n",
       "      <th>227816</th>\n",
       "      <td>150679</td>\n",
       "      <td>0.107945</td>\n",
       "      <td>1.146311</td>\n",
       "      <td>-12.833631</td>\n",
       "      <td>7.508790</td>\n",
       "      <td>-20.491952</td>\n",
       "      <td>7.465780</td>\n",
       "      <td>-11.575304</td>\n",
       "      <td>-5.140999</td>\n",
       "      <td>-14.020564</td>\n",
       "      <td>...</td>\n",
       "      <td>-1.378923</td>\n",
       "      <td>2.966842</td>\n",
       "      <td>0.615344</td>\n",
       "      <td>-0.766495</td>\n",
       "      <td>0.431261</td>\n",
       "      <td>-0.104975</td>\n",
       "      <td>-0.010091</td>\n",
       "      <td>-2.400811</td>\n",
       "      <td>-0.720557</td>\n",
       "      <td>1</td>\n",
       "    </tr>\n",
       "  </tbody>\n",
       "</table>\n",
       "<p>5 rows × 32 columns</p>\n",
       "</div>"
      ],
      "text/plain": [
       "        Unnamed: 0  scaled_time  scaled_amount         V1         V2  \\\n",
       "138911      244693     0.796053       0.168250 -20.054939 -22.375260   \n",
       "227571      154234     0.190713      -0.293460 -23.984747  16.697832   \n",
       "227537      102782    -0.191899      -0.033678   1.232604  -0.548931   \n",
       "227820      167305     0.398414       1.172303  -6.677212   5.529299   \n",
       "227816      150679     0.107945       1.146311 -12.833631   7.508790   \n",
       "\n",
       "               V3         V4         V5        V6         V7  ...       V20  \\\n",
       "138911  -3.148811  10.278237  12.511889 -5.078274  -4.482576  ... -5.076221   \n",
       "227571 -22.209875   9.584969 -16.230439  2.596333 -33.239328  ...  5.804551   \n",
       "227537   1.087873   0.894082  -1.433055 -0.356797  -0.717492  ... -0.576274   \n",
       "227820  -7.193275   6.081321  -1.636071  0.500610  -4.640770  ... -1.118687   \n",
       "227816 -20.491952   7.465780 -11.575304 -5.140999 -14.020564  ... -1.378923   \n",
       "\n",
       "              V21       V22       V23       V24       V25       V26       V27  \\\n",
       "138911  -2.563489 -0.841853 -7.417014  0.189711 -0.430262  0.396790 -1.374834   \n",
       "227571 -12.615023  5.774087  2.750221  0.513411 -1.608804 -0.459624 -4.626127   \n",
       "227537  -0.448671 -0.517568  0.012833  0.699217  0.527258 -0.322607  0.080805   \n",
       "227820   5.563301 -1.608272  0.965322  0.163718  0.047531  0.466165  0.278547   \n",
       "227816   2.966842  0.615344 -0.766495  0.431261 -0.104975 -0.010091 -2.400811   \n",
       "\n",
       "             V28  Class  \n",
       "138911  4.608702      0  \n",
       "227571 -0.334561      1  \n",
       "227537  0.035427      1  \n",
       "227820  1.471988      1  \n",
       "227816 -0.720557      1  \n",
       "\n",
       "[5 rows x 32 columns]"
      ]
     },
     "execution_count": 29,
     "metadata": {},
     "output_type": "execute_result"
    }
   ],
   "source": [
    "df = pd.read_csv('credit_card_4_5.csv')\n",
    "df = df.sample(frac=1)\n",
    "\n",
    "# amount of fraud classes 492 rows.\n",
    "fraud_df = df.loc[df['Class'] == 1]\n",
    "non_fraud_df = df.loc[df['Class'] == 0][:393]\n",
    "\n",
    "normal_distributed_df = pd.concat([fraud_df, non_fraud_df])\n",
    "\n",
    "# Shuffle dataframe rows\n",
    "new_df = normal_distributed_df.sample(frac=1, random_state=42)\n",
    "new_df.to_csv('new_data_4_5_sampled.csv')\n",
    "new_df.head()"
   ]
  },
  {
   "cell_type": "code",
   "execution_count": 31,
   "metadata": {},
   "outputs": [],
   "source": [
    "# Undersampling before cross validating (prone to overfit)\n",
    "X_train = new_df.drop('Class', axis=1)\n",
    "y_train = new_df['Class']\n",
    "dftest = pd.read_csv('credit_card_1_5.csv')\n",
    "X_test = dftest.drop('Class',axis=1)\n",
    "y_test = dftest['Class']\n",
    "# Turn the values into an array for feeding the classification algorithms.\n",
    "X_train = X_train.values\n",
    "X_test = X_test.values\n",
    "y_train = y_train.values\n",
    "y_test = y_test.values"
   ]
  },
  {
   "cell_type": "code",
   "execution_count": 32,
   "metadata": {},
   "outputs": [],
   "source": [
    "\n",
    "from sklearn.model_selection import cross_val_score\n",
    "from sklearn.linear_model import LogisticRegression\n",
    "from sklearn.svm import SVC\n",
    "from sklearn.neighbors import KNeighborsClassifier\n",
    "from sklearn.tree import DecisionTreeClassifier\n",
    "from sklearn.ensemble import RandomForestClassifier\n",
    "import collections\n",
    "from sklearn.model_selection import train_test_split\n",
    "from sklearn.pipeline import make_pipeline\n",
    "# from imblearn.pipeline import make_pipeline as imbalanced_make_pipeline\n",
    "# from imblearn.over_sampling import SMOTE\n",
    "# from imblearn.under_sampling import NearMiss\n",
    "# from imblearn.metrics import classification_report_imbalanced\n",
    "from sklearn.metrics import precision_score, recall_score, f1_score, roc_auc_score, accuracy_score, classification_report\n",
    "from collections import Counter\n",
    "from sklearn.model_selection import KFold, StratifiedKFold\n",
    "import warnings\n",
    "warnings.filterwarnings(\"ignore\")"
   ]
  },
  {
   "cell_type": "code",
   "execution_count": 33,
   "metadata": {},
   "outputs": [
    {
     "name": "stdout",
     "output_type": "stream",
     "text": [
      "Classification Report of  LogisiticRegression :\n",
      "               precision    recall  f1-score   support\n",
      "\n",
      "           0       1.00      0.98      0.99     56861\n",
      "           1       0.08      0.87      0.14        98\n",
      "\n",
      "    accuracy                           0.98     56959\n",
      "   macro avg       0.54      0.92      0.57     56959\n",
      "weighted avg       1.00      0.98      0.99     56959\n",
      "\n",
      "Classifiers:  LogisticRegression Has a training score of 92.0 % accuracy score\n",
      "Classification Report of  KNearest :\n",
      "               precision    recall  f1-score   support\n",
      "\n",
      "           0       1.00      0.63      0.77     56861\n",
      "           1       0.00      0.64      0.01        98\n",
      "\n",
      "    accuracy                           0.63     56959\n",
      "   macro avg       0.50      0.63      0.39     56959\n",
      "weighted avg       1.00      0.63      0.77     56959\n",
      "\n",
      "Classifiers:  KNeighborsClassifier Has a training score of 63.0 % accuracy score\n",
      "Classification Report of  Support Vector Classifier :\n",
      "               precision    recall  f1-score   support\n",
      "\n",
      "           0       1.00      1.00      1.00     56861\n",
      "           1       0.14      0.17      0.15        98\n",
      "\n",
      "    accuracy                           1.00     56959\n",
      "   macro avg       0.57      0.59      0.58     56959\n",
      "weighted avg       1.00      1.00      1.00     56959\n",
      "\n",
      "Classifiers:  SVC Has a training score of 56.00000000000001 % accuracy score\n"
     ]
    },
    {
     "data": {
      "image/png": "[encoded data removed]",
      "text/plain": [
       "<Figure size 720x504 with 2 Axes>"
      ]
     },
     "metadata": {
      "needs_background": "light"
     },
     "output_type": "display_data"
    },
    {
     "data": {
      "image/png": "[encoded data removed]",
      "text/plain": [
       "<Figure size 720x504 with 2 Axes>"
      ]
     },
     "metadata": {
      "needs_background": "light"
     },
     "output_type": "display_data"
    },
    {
     "data": {
      "image/png": "[encoded data removed]",
      "text/plain": [
       "<Figure size 720x504 with 2 Axes>"
      ]
     },
     "metadata": {
      "needs_background": "light"
     },
     "output_type": "display_data"
    }
   ],
   "source": [
    "\n",
    "# Let's implement simple classifiers\n",
    "\n",
    "classifiers = {\n",
    "    \"LogisiticRegression\": LogisticRegression(),\n",
    "    \"KNearest\": KNeighborsClassifier(),\n",
    "    \"Support Vector Classifier\": SVC()\n",
    "}\n",
    "from sklearn.model_selection import cross_val_score\n",
    "from sklearn.metrics import confusion_matrix\n",
    "import seaborn as sn\n",
    "import pandas as pd\n",
    "import matplotlib.pyplot as plt\n",
    "#Let's see how our model performed\n",
    "from sklearn.metrics import classification_report\n",
    "classrep = []\n",
    "confusionmatrices = {}\n",
    "predicts = {}\n",
    "for key, classifier in classifiers.items():\n",
    "    classifier.fit(X_train, y_train)\n",
    "    predictions = classifier.predict(X_test)\n",
    "    print('Classification Report of ',key,':\\n',classification_report(y_test, predictions))\n",
    "    predicts[key] = predictions\n",
    "    classrep.append(classification_report(y_test, predictions));\n",
    "    confusionmatrices[key] = confusion_matrix(y_test,predictions);\n",
    "    df_cm = pd.DataFrame(confusion_matrix(y_test,predictions), index = [i for i in ['Non-Fraudulent','Fraudulent']],\n",
    "                  columns = [i for i in ['Non-Fraudulent','Fraudulent']])\n",
    "    plt.figure(figsize = (10,7))\n",
    "    plt.title(key)\n",
    "    sn.heatmap(df_cm, annot=True)\n",
    "    name = key + 'Confusion Matrix'\n",
    "    plt.savefig(name)\n",
    "#     print('The cofusion matrix for',key,':\\n',confusion_matrix(y_test,predictions),'\\n')\n",
    "    training_score = cross_val_score(classifier, X_train, y_train, cv=5)\n",
    "    print(\"Classifiers: \", classifier.__class__.__name__, \"Has a training score of\", round(training_score.mean(), 2) * 100, \"% accuracy score\")"
   ]
  },
  {
   "cell_type": "code",
   "execution_count": 34,
   "metadata": {},
   "outputs": [],
   "source": [
    "# Let's Plot LogisticRegression Learning Curve\n",
    "from sklearn.model_selection import ShuffleSplit\n",
    "from sklearn.model_selection import learning_curve\n",
    "\n",
    "def plot_learning_curve(estimator1, estimator2, estimator3, estimator4, X, y, ylim=None, cv=None,\n",
    "                        n_jobs=1, train_sizes=np.linspace(.1, 1.0, 5)):\n",
    "    f, ((ax1, ax2), (ax3, ax4)) = plt.subplots(2,2, figsize=(20,14), sharey=True)\n",
    "    if ylim is not None:\n",
    "        plt.ylim(*ylim)\n",
    "    # First Estimator\n",
    "    train_sizes, train_scores, test_scores = learning_curve(\n",
    "        estimator1, X, y, cv=cv, n_jobs=n_jobs, train_sizes=train_sizes)\n",
    "    train_scores_mean = np.mean(train_scores, axis=1)\n",
    "    train_scores_std = np.std(train_scores, axis=1)\n",
    "    test_scores_mean = np.mean(test_scores, axis=1)\n",
    "    test_scores_std = np.std(test_scores, axis=1)\n",
    "    ax1.fill_between(train_sizes, train_scores_mean - train_scores_std,\n",
    "                     train_scores_mean + train_scores_std, alpha=0.1,\n",
    "                     color=\"#ff9124\")\n",
    "    ax1.fill_between(train_sizes, test_scores_mean - test_scores_std,\n",
    "                     test_scores_mean + test_scores_std, alpha=0.1, color=\"#2492ff\")\n",
    "    ax1.plot(train_sizes, train_scores_mean, 'o-', color=\"#ff9124\",\n",
    "             label=\"Training score\")\n",
    "    ax1.plot(train_sizes, test_scores_mean, 'o-', color=\"#2492ff\",\n",
    "             label=\"Cross-validation score\")\n",
    "    ax1.set_title(\"Logistic Regression Learning Curve\", fontsize=14)\n",
    "    ax1.set_xlabel('Training size (m)')\n",
    "    ax1.set_ylabel('Score')\n",
    "    ax1.grid(True)\n",
    "    ax1.legend(loc=\"best\")\n",
    "    \n",
    "    # Second Estimator \n",
    "    train_sizes, train_scores, test_scores = learning_curve(\n",
    "        estimator2, X, y, cv=cv, n_jobs=n_jobs, train_sizes=train_sizes)\n",
    "    train_scores_mean = np.mean(train_scores, axis=1)\n",
    "    train_scores_std = np.std(train_scores, axis=1)\n",
    "    test_scores_mean = np.mean(test_scores, axis=1)\n",
    "    test_scores_std = np.std(test_scores, axis=1)\n",
    "    ax2.fill_between(train_sizes, train_scores_mean - train_scores_std,\n",
    "                     train_scores_mean + train_scores_std, alpha=0.1,\n",
    "                     color=\"#ff9124\")\n",
    "    ax2.fill_between(train_sizes, test_scores_mean - test_scores_std,\n",
    "                     test_scores_mean + test_scores_std, alpha=0.1, color=\"#2492ff\")\n",
    "    ax2.plot(train_sizes, train_scores_mean, 'o-', color=\"#ff9124\",\n",
    "             label=\"Training score\")\n",
    "    ax2.plot(train_sizes, test_scores_mean, 'o-', color=\"#2492ff\",\n",
    "             label=\"Cross-validation score\")\n",
    "    ax2.set_title(\"Knears Neighbors Learning Curve\", fontsize=14)\n",
    "    ax2.set_xlabel('Training size (m)')\n",
    "    ax2.set_ylabel('Score')\n",
    "    ax2.grid(True)\n",
    "    ax2.legend(loc=\"best\")\n",
    "    \n",
    "    # Third Estimator\n",
    "    train_sizes, train_scores, test_scores = learning_curve(\n",
    "        estimator3, X, y, cv=cv, n_jobs=n_jobs, train_sizes=train_sizes)\n",
    "    train_scores_mean = np.mean(train_scores, axis=1)\n",
    "    train_scores_std = np.std(train_scores, axis=1)\n",
    "    test_scores_mean = np.mean(test_scores, axis=1)\n",
    "    test_scores_std = np.std(test_scores, axis=1)\n",
    "    ax3.fill_between(train_sizes, train_scores_mean - train_scores_std,\n",
    "                     train_scores_mean + train_scores_std, alpha=0.1,\n",
    "                     color=\"#ff9124\")\n",
    "    ax3.fill_between(train_sizes, test_scores_mean - test_scores_std,\n",
    "                     test_scores_mean + test_scores_std, alpha=0.1, color=\"#2492ff\")\n",
    "    ax3.plot(train_sizes, train_scores_mean, 'o-', color=\"#ff9124\",\n",
    "             label=\"Training score\")\n",
    "    ax3.plot(train_sizes, test_scores_mean, 'o-', color=\"#2492ff\",\n",
    "             label=\"Cross-validation score\")\n",
    "    ax3.set_title(\"Support Vector Classifier \\n Learning Curve\", fontsize=14)\n",
    "    ax3.set_xlabel('Training size (m)')\n",
    "    ax3.set_ylabel('Score')\n",
    "    ax3.grid(True)\n",
    "    ax3.legend(loc=\"best\")\n",
    "    \n",
    "    return plt"
   ]
  },
  {
   "cell_type": "code",
   "execution_count": 35,
   "metadata": {},
   "outputs": [
    {
     "data": {
      "text/plain": [
       "<module 'matplotlib.pyplot' from '/Users/nimishagarwal/anaconda3/envs/Data-Science-with-Python/lib/python3.6/site-packages/matplotlib/pyplot.py'>"
      ]
     },
     "execution_count": 35,
     "metadata": {},
     "output_type": "execute_result"
    },
    {
     "data": {
      "image/png": "[encoded data removed]",
      "text/plain": [
       "<Figure size 1440x1008 with 4 Axes>"
      ]
     },
     "metadata": {
      "needs_background": "light"
     },
     "output_type": "display_data"
    }
   ],
   "source": [
    "cv = ShuffleSplit(n_splits=100, test_size=0.2, random_state=42)\n",
    "plot_learning_curve(LogisticRegression(),SVC(), DecisionTreeClassifier(),  KNeighborsClassifier(),X_train, y_train, (0.87, 1.01), cv=cv, n_jobs=4)"
   ]
  },
  {
   "cell_type": "code",
   "execution_count": 39,
   "metadata": {},
   "outputs": [
    {
     "data": {
      "image/png": "[encoded data removed]",
      "text/plain": [
       "<Figure size 432x288 with 1 Axes>"
      ]
     },
     "metadata": {
      "needs_background": "light"
     },
     "output_type": "display_data"
    }
   ],
   "source": [
    "from sklearn.metrics import roc_curve\n",
    "from matplotlib import pyplot\n",
    "colour={\"LogisiticRegression\": 'r-',\n",
    "    \"KNearest\": 'b-',\n",
    "    \"Support Vector Classifier\": 'g-',\n",
    "       \"isolation forest\" : 'y-'}\n",
    "predicts[\"isolation forest\"] = y_pred_iso\n",
    "classifiers[\"isolation forest\"] = clf\n",
    "for key, classifier in classifiers.items():\n",
    "    fpr, tpr, thresholds = roc_curve(y_test, predicts[key])\n",
    "    pyplot.plot([0, 1], [0, 1], linestyle='--')\n",
    "    # plot the roc curve for the model\n",
    "    pyplot.plot(fpr, tpr,colour[key],label=key)\n",
    "    pyplot.xlabel('False Positive Rate')\n",
    "    pyplot.ylabel('True Positive Rate')\n",
    "    name = 'ROC curve for '+key\n",
    "    \n",
    "#     pyplot.title(name)"
   ]
  },
  {
   "cell_type": "code",
   "execution_count": null,
   "metadata": {},
   "outputs": [],
   "source": []
  }
 ],
 "metadata": {
  "kernelspec": {
   "display_name": "Python 3",
   "language": "python",
   "name": "python3"
  },
  "language_info": {
   "codemirror_mode": {
    "name": "ipython",
    "version": 3
   },
   "file_extension": ".py",
   "mimetype": "text/x-python",
   "name": "python",
   "nbconvert_exporter": "python",
   "pygments_lexer": "ipython3",
   "version": "3.6.8"
  }
 },
 "nbformat": 4,
 "nbformat_minor": 2
}
