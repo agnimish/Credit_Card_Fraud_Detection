{
 "cells": [
  {
   "cell_type": "code",
   "execution_count": 1,
   "metadata": {},
   "outputs": [],
   "source": [
    "#Libraries\n",
    "import numpy as np\n",
    "import pandas as pd \n",
    "import seaborn as sns\n",
    "import matplotlib.pyplot as plt\n",
    "import matplotlib.gridspec as gridspec # to do the grid of plots"
   ]
  },
  {
   "cell_type": "code",
   "execution_count": 6,
   "metadata": {},
   "outputs": [],
   "source": [
    "df = pd.read_csv('creditcard.csv')"
   ]
  },
  {
   "cell_type": "code",
   "execution_count": 7,
   "metadata": {},
   "outputs": [],
   "source": [
    "df = df[df.Amount < 10000]"
   ]
  },
  {
   "cell_type": "code",
   "execution_count": 8,
   "metadata": {},
   "outputs": [],
   "source": [
    "# Reason: robust scaler is immune to outliers, as median is chosen as the central tendancy.\n",
    "from sklearn.preprocessing import StandardScaler, RobustScaler\n",
    "\n",
    "rob_scaler = RobustScaler()\n",
    "\n",
    "df['scaled_amount'] = rob_scaler.fit_transform(df['Amount'].values.reshape(-1,1))\n",
    "df['scaled_time'] = rob_scaler.fit_transform(df['Time'].values.reshape(-1,1))\n",
    "\n",
    "df.drop(['Time','Amount'], axis=1, inplace=True)\n",
    "df = df[['scaled_time','scaled_amount', 'V1', 'V2', 'V3', 'V4', 'V5', 'V6', 'V7', 'V8', 'V9', 'V10',\n",
    "       'V11', 'V12', 'V13', 'V14', 'V15', 'V16', 'V17', 'V18', 'V19', 'V20',\n",
    "       'V21', 'V22', 'V23', 'V24', 'V25', 'V26', 'V27', 'V28',\n",
    "       'Class']]"
   ]
  },
  {
   "cell_type": "code",
   "execution_count": 9,
   "metadata": {},
   "outputs": [],
   "source": [
    "fraud = df[df.Class == 1].sample(frac=1, random_state=42)\n",
    "nonfraud = df[df.Class == 0].sample(frac=1, random_state=42)"
   ]
  },
  {
   "cell_type": "code",
   "execution_count": 10,
   "metadata": {},
   "outputs": [],
   "source": [
    "fraud_cnt = len(fraud)\n",
    "nonfraud_cnt = len(nonfraud)\n",
    "\n",
    "fraud_1_5 = fraud [: fraud_cnt//5]\n",
    "fraud_4_5 = fraud [(fraud_cnt//5)+1 : fraud_cnt]\n",
    "\n",
    "nonfraud_1_5 = nonfraud [: nonfraud_cnt//5]\n",
    "nonfraud_4_5 = nonfraud [(nonfraud_cnt//5)+1 : nonfraud_cnt]"
   ]
  },
  {
   "cell_type": "code",
   "execution_count": 17,
   "metadata": {},
   "outputs": [],
   "source": [
    "credit_card_1_5 = pd.concat([nonfraud_1_5 , fraud_1_5])\n",
    "credit_card_4_5 = pd.concat([nonfraud_4_5 , fraud_4_5])"
   ]
  },
  {
   "cell_type": "code",
   "execution_count": 18,
   "metadata": {},
   "outputs": [],
   "source": [
    "credit_card_1_5.to_csv(\"credit_card_1_5.csv\")\n",
    "credit_card_4_5.to_csv(\"credit_card_4_5.csv\")"
   ]
  },
  {
   "cell_type": "code",
   "execution_count": 19,
   "metadata": {},
   "outputs": [],
   "source": [
    "df = credit_card_4_5"
   ]
  },
  {
   "cell_type": "code",
   "execution_count": 21,
   "metadata": {},
   "outputs": [],
   "source": [
    "fraud = df[df.Class == 1]\n",
    "nonfraud = df[df.Class == 0]"
   ]
  },
  {
   "cell_type": "code",
   "execution_count": 24,
   "metadata": {},
   "outputs": [],
   "source": [
    "X_fraud = fraud.drop('Class', axis=1)"
   ]
  },
  {
   "cell_type": "code",
   "execution_count": 25,
   "metadata": {},
   "outputs": [],
   "source": [
    "from sklearn.ensemble import IsolationForest\n",
    "from sklearn.metrics import confusion_matrix, classification_report, accuracy_score"
   ]
  },
  {
   "cell_type": "code",
   "execution_count": 27,
   "metadata": {},
   "outputs": [],
   "source": [
    "X_test = credit_card_1_5.drop('Class',axis=1)\n",
    "y_test = credit_card_1_5['Class']"
   ]
  },
  {
   "cell_type": "code",
   "execution_count": 35,
   "metadata": {},
   "outputs": [
    {
     "name": "stderr",
     "output_type": "stream",
     "text": [
      "D:\\Anaconda3\\lib\\site-packages\\sklearn\\ensemble\\iforest.py:223: FutureWarning: behaviour=\"old\" is deprecated and will be removed in version 0.22. Please use behaviour=\"new\", which makes the decision_function change to match other anomaly detection algorithm API.\n",
      "  FutureWarning)\n",
      "D:\\Anaconda3\\lib\\site-packages\\sklearn\\ensemble\\iforest.py:417: DeprecationWarning: threshold_ attribute is deprecated in 0.20 and will be removed in 0.22.\n",
      "  \" be removed in 0.22.\", DeprecationWarning)\n"
     ]
    },
    {
     "name": "stdout",
     "output_type": "stream",
     "text": [
      "[[45650 11211]\n",
      " [   10    88]]\n",
      "0.802998648150424\n",
      "              precision    recall  f1-score   support\n",
      "\n",
      "           0       1.00      0.80      0.89     56861\n",
      "           1       0.01      0.90      0.02        98\n",
      "\n",
      "   micro avg       0.80      0.80      0.80     56959\n",
      "   macro avg       0.50      0.85      0.45     56959\n",
      "weighted avg       1.00      0.80      0.89     56959\n",
      "\n",
      "Total number of Transactions classified as Fraudulent:  11299\n",
      "Number of Fraudulent Transactions classified as Non-fraudulent:  10 out of 98\n"
     ]
    },
    {
     "data": {
      "image/png": "[encoded data removed]",
      "text/plain": [
       "<Figure size 432x288 with 1 Axes>"
      ]
     },
     "metadata": {
      "needs_background": "light"
     },
     "output_type": "display_data"
    }
   ],
   "source": [
    "nonfraud_sample = nonfraud.sample(n=1000)\n",
    "df_outlier=pd.concat([fraud,nonfraud_sample])\n",
    "X_train = df_outlier.drop('Class', axis=1)\n",
    "y_train = df_outlier['Class']\n",
    "\n",
    "state = 1\n",
    "outlier_fraction = len(fraud)/float(len(nonfraud_sample))\n",
    "\n",
    "clf = IsolationForest(max_samples=len(X_train), contamination = outlier_fraction, random_state = state)\n",
    "clf.fit(X_train)\n",
    "y_pred = clf.predict(X_test)\n",
    "y_pred[y_pred == 1] = 0\n",
    "y_pred[y_pred == -1] = 1\n",
    "y_pred = pd.DataFrame(y_pred)\n",
    "\n",
    "mat = confusion_matrix(y_test,y_pred)\n",
    "print(mat)\n",
    "print(accuracy_score(y_test,y_pred))\n",
    "print(classification_report(y_test,y_pred))\n",
    "print(\"Total number of Transactions classified as Fraudulent: \", mat[1][1]+mat[0][1])\n",
    "print(\"Number of Fraudulent Transactions classified as Non-fraudulent: \", mat[1][0], \"out of 98\")\n",
    "\n",
    "from sklearn.metrics import roc_curve\n",
    "from matplotlib import pyplot\n",
    "fpr, tpr, thresholds = roc_curve(y_test, y_pred)\n",
    "pyplot.plot([0, 1], [0, 1], linestyle='--')\n",
    "# plot the roc curve for the model\n",
    "pyplot.plot(fpr, tpr, marker='.')\n",
    "pyplot.xlabel('False Positive Rate')\n",
    "pyplot.ylabel('True Positive Rate')\n",
    "pyplot.title('ROC curve when n = 1000')\n",
    "# show the plot\n",
    "pyplot.show()"
   ]
  },
  {
   "cell_type": "code",
   "execution_count": 34,
   "metadata": {},
   "outputs": [
    {
     "name": "stderr",
     "output_type": "stream",
     "text": [
      "D:\\Anaconda3\\lib\\site-packages\\sklearn\\ensemble\\iforest.py:223: FutureWarning: behaviour=\"old\" is deprecated and will be removed in version 0.22. Please use behaviour=\"new\", which makes the decision_function change to match other anomaly detection algorithm API.\n",
      "  FutureWarning)\n",
      "D:\\Anaconda3\\lib\\site-packages\\sklearn\\ensemble\\iforest.py:417: DeprecationWarning: threshold_ attribute is deprecated in 0.20 and will be removed in 0.22.\n",
      "  \" be removed in 0.22.\", DeprecationWarning)\n"
     ]
    },
    {
     "name": "stdout",
     "output_type": "stream",
     "text": [
      "[[56651   210]\n",
      " [   53    45]]\n",
      "0.9953826436559631\n",
      "              precision    recall  f1-score   support\n",
      "\n",
      "           0       1.00      1.00      1.00     56861\n",
      "           1       0.18      0.46      0.25        98\n",
      "\n",
      "   micro avg       1.00      1.00      1.00     56959\n",
      "   macro avg       0.59      0.73      0.63     56959\n",
      "weighted avg       1.00      1.00      1.00     56959\n",
      "\n",
      "Total number of Transactions classified as Fraudulent:  255\n",
      "Number of Fraudulent Transactions classified as Non-fraudulent:  53 out of 98\n"
     ]
    },
    {
     "data": {
      "image/png": "[encoded data removed]",
      "text/plain": [
       "<Figure size 432x288 with 1 Axes>"
      ]
     },
     "metadata": {
      "needs_background": "light"
     },
     "output_type": "display_data"
    }
   ],
   "source": [
    "nonfraud_sample = nonfraud.sample(n=45000)\n",
    "df_outlier=pd.concat([fraud,nonfraud_sample])\n",
    "X_train = df_outlier.drop('Class', axis=1)\n",
    "y_train = df_outlier['Class']\n",
    "\n",
    "state = 1\n",
    "outlier_fraction = len(fraud)/float(len(nonfraud_sample))\n",
    "\n",
    "clf = IsolationForest(max_samples=len(X_train), contamination = outlier_fraction, random_state = state)\n",
    "clf.fit(X_train)\n",
    "y_pred = clf.predict(X_test)\n",
    "y_pred[y_pred == 1] = 0\n",
    "y_pred[y_pred == -1] = 1\n",
    "y_pred = pd.DataFrame(y_pred)\n",
    "\n",
    "mat = confusion_matrix(y_test,y_pred)\n",
    "print(mat)\n",
    "print(accuracy_score(y_test,y_pred))\n",
    "print(classification_report(y_test,y_pred))\n",
    "print(\"Total number of Transactions classified as Fraudulent: \", mat[1][1]+mat[0][1])\n",
    "print(\"Number of Fraudulent Transactions classified as Non-fraudulent: \", mat[1][0], \"out of 98\")\n",
    "\n",
    "from sklearn.metrics import roc_curve\n",
    "from matplotlib import pyplot\n",
    "fpr, tpr, thresholds = roc_curve(y_test, y_pred)\n",
    "pyplot.plot([0, 1], [0, 1], linestyle='--')\n",
    "# plot the roc curve for the model\n",
    "pyplot.plot(fpr, tpr, marker='.')\n",
    "pyplot.xlabel('False Positive Rate')\n",
    "pyplot.ylabel('True Positive Rate')\n",
    "pyplot.title('ROC curve when n = 1000')\n",
    "# show the plot\n",
    "pyplot.show()"
   ]
  },
  {
   "cell_type": "code",
   "execution_count": 33,
   "metadata": {},
   "outputs": [
    {
     "name": "stderr",
     "output_type": "stream",
     "text": [
      "D:\\Anaconda3\\lib\\site-packages\\sklearn\\ensemble\\iforest.py:223: FutureWarning: behaviour=\"old\" is deprecated and will be removed in version 0.22. Please use behaviour=\"new\", which makes the decision_function change to match other anomaly detection algorithm API.\n",
      "  FutureWarning)\n",
      "D:\\Anaconda3\\lib\\site-packages\\sklearn\\ensemble\\iforest.py:417: DeprecationWarning: threshold_ attribute is deprecated in 0.20 and will be removed in 0.22.\n",
      "  \" be removed in 0.22.\", DeprecationWarning)\n"
     ]
    },
    {
     "name": "stdout",
     "output_type": "stream",
     "text": [
      "[[55300  1561]\n",
      " [   26    72]]\n",
      "0.9721378535437771\n",
      "              precision    recall  f1-score   support\n",
      "\n",
      "           0       1.00      0.97      0.99     56861\n",
      "           1       0.04      0.73      0.08        98\n",
      "\n",
      "   micro avg       0.97      0.97      0.97     56959\n",
      "   macro avg       0.52      0.85      0.53     56959\n",
      "weighted avg       1.00      0.97      0.98     56959\n",
      "\n",
      "Total number of Transactions classified as Fraudulent:  1633\n",
      "Number of Fraudulent Transactions classified as Non-fraudulent:  26 out of 98\n"
     ]
    },
    {
     "data": {
      "image/png": "[encoded data removed]",
      "text/plain": [
       "<Figure size 432x288 with 1 Axes>"
      ]
     },
     "metadata": {
      "needs_background": "light"
     },
     "output_type": "display_data"
    }
   ],
   "source": [
    "nonfraud_sample = nonfraud.sample(n=5000)\n",
    "df_outlier=pd.concat([fraud,nonfraud_sample])\n",
    "X_train = df_outlier.drop('Class', axis=1)\n",
    "y_train = df_outlier['Class']\n",
    "\n",
    "state = 1\n",
    "outlier_fraction = len(fraud)/float(len(nonfraud_sample))\n",
    "\n",
    "clf = IsolationForest(max_samples=len(X_train), contamination = outlier_fraction, random_state = state)\n",
    "clf.fit(X_train)\n",
    "y_pred = clf.predict(X_test)\n",
    "y_pred[y_pred == 1] = 0\n",
    "y_pred[y_pred == -1] = 1\n",
    "y_pred = pd.DataFrame(y_pred)\n",
    "\n",
    "mat = confusion_matrix(y_test,y_pred)\n",
    "print(mat)\n",
    "print(accuracy_score(y_test,y_pred))\n",
    "print(classification_report(y_test,y_pred))\n",
    "print(\"Total number of Transactions classified as Fraudulent: \", mat[1][1]+mat[0][1])\n",
    "print(\"Number of Fraudulent Transactions classified as Non-fraudulent: \", mat[1][0], \"out of 98\")\n",
    "\n",
    "from sklearn.metrics import roc_curve\n",
    "from matplotlib import pyplot\n",
    "fpr, tpr, thresholds = roc_curve(y_test, y_pred)\n",
    "pyplot.plot([0, 1], [0, 1], linestyle='--')\n",
    "# plot the roc curve for the model\n",
    "pyplot.plot(fpr, tpr, marker='.')\n",
    "pyplot.xlabel('False Positive Rate')\n",
    "pyplot.ylabel('True Positive Rate')\n",
    "pyplot.title('ROC curve when n = 1000')\n",
    "# show the plot\n",
    "pyplot.show()"
   ]
  },
  {
   "cell_type": "code",
   "execution_count": null,
   "metadata": {},
   "outputs": [],
   "source": []
  }
 ],
 "metadata": {
  "kernelspec": {
   "display_name": "Python 3",
   "language": "python",
   "name": "python3"
  },
  "language_info": {
   "codemirror_mode": {
    "name": "ipython",
    "version": 3
   },
   "file_extension": ".py",
   "mimetype": "text/x-python",
   "name": "python",
   "nbconvert_exporter": "python",
   "pygments_lexer": "ipython3",
   "version": "3.7.1"
  }
 },
 "nbformat": 4,
 "nbformat_minor": 2
}
